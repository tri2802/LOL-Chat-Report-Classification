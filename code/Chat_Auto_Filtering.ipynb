{
 "cells": [
  {
   "cell_type": "markdown",
   "metadata": {
    "id": "pTEHH6mIZJE5"
   },
   "source": [
    "# Part I: Loading Libraries"
   ]
  },
  {
   "cell_type": "code",
   "execution_count": 1,
   "metadata": {
    "colab": {
     "base_uri": "https://localhost:8080/"
    },
    "id": "xWMjKINXZNV5",
    "outputId": "3c4c3742-8bf9-4660-98a5-743d40c1369a",
    "scrolled": true
   },
   "outputs": [
    {
     "name": "stderr",
     "output_type": "stream",
     "text": [
      "/home/x-tdo3/.local/lib/python3.9/site-packages/pandas/core/computation/expressions.py:21: UserWarning: Pandas requires version '2.8.4' or newer of 'numexpr' (version '2.7.3' currently installed).\n",
      "  from pandas.core.computation.check import NUMEXPR_INSTALLED\n",
      "/home/x-tdo3/.local/lib/python3.9/site-packages/pandas/core/arrays/masked.py:60: UserWarning: Pandas requires version '1.3.6' or newer of 'bottleneck' (version '1.3.2' currently installed).\n",
      "  from pandas.core import (\n",
      "/apps/anvil/external/apps/jupyter/lib/python3.9/site-packages/scipy/__init__.py:146: UserWarning: A NumPy version >=1.16.5 and <1.23.0 is required for this version of SciPy (detected version 1.26.4\n",
      "  warnings.warn(f\"A NumPy version >={np_minversion} and <{np_maxversion}\"\n",
      "[nltk_data] Downloading package wordnet to /home/x-tdo3/nltk_data...\n",
      "[nltk_data]   Package wordnet is already up-to-date!\n",
      "[nltk_data] Downloading package brown to /home/x-tdo3/nltk_data...\n",
      "[nltk_data]   Package brown is already up-to-date!\n",
      "2024-07-24 10:02:44.555736: E external/local_xla/xla/stream_executor/cuda/cuda_fft.cc:485] Unable to register cuFFT factory: Attempting to register factory for plugin cuFFT when one has already been registered\n",
      "2024-07-24 10:02:44.615915: E external/local_xla/xla/stream_executor/cuda/cuda_dnn.cc:8454] Unable to register cuDNN factory: Attempting to register factory for plugin cuDNN when one has already been registered\n",
      "2024-07-24 10:02:44.633023: E external/local_xla/xla/stream_executor/cuda/cuda_blas.cc:1452] Unable to register cuBLAS factory: Attempting to register factory for plugin cuBLAS when one has already been registered\n",
      "2024-07-24 10:02:44.746214: I tensorflow/core/platform/cpu_feature_guard.cc:210] This TensorFlow binary is optimized to use available CPU instructions in performance-critical operations.\n",
      "To enable the following instructions: AVX2 FMA, in other operations, rebuild TensorFlow with the appropriate compiler flags.\n",
      "2024-07-24 10:02:45.956670: W tensorflow/compiler/tf2tensorrt/utils/py_utils.cc:38] TF-TRT Warning: Could not find TensorRT\n"
     ]
    }
   ],
   "source": [
    "#Data visualization and analysis \n",
    "import pandas as pd\n",
    "import matplotlib.pyplot as plt\n",
    "\n",
    "#Data cleaning\n",
    "import re\n",
    "import string\n",
    "\n",
    "#Data engineering and math\n",
    "import numpy as np\n",
    "\n",
    "import nltk\n",
    "\n",
    "#Tokenizing\n",
    "import spacy\n",
    "nlp = spacy.load(\"en_core_web_sm\")\n",
    "\n",
    "#POS-Tagging\n",
    "from nltk.corpus import wordnet\n",
    "nltk.download('wordnet')\n",
    "from nltk.corpus import brown\n",
    "nltk.download('brown')\n",
    "\n",
    "#Lemmatizing\n",
    "from nltk.stem import WordNetLemmatizer\n",
    "\n",
    "#Vectorizing\n",
    "from sklearn.feature_extraction.text import TfidfVectorizer\n",
    "\n",
    "#Handling sparse matrix during vectorization\n",
    "from scipy.sparse import csr_matrix\n",
    "\n",
    "#Data Splitting\n",
    "from sklearn.model_selection import train_test_split\n",
    "\n",
    "#NBSVM model\n",
    "from sklearn.naive_bayes import MultinomialNB\n",
    "from sklearn.svm import SVC\n",
    "\n",
    "#Model Evaluation\n",
    "from sklearn.metrics import classification_report\n",
    "from sklearn.metrics import precision_score, f1_score, recall_score, accuracy_score\n",
    "from sklearn.metrics import roc_auc_score, roc_curve\n",
    "from sklearn.metrics import confusion_matrix, ConfusionMatrixDisplay\n",
    "\n",
    "#NBSVM fine tuning\n",
    "from sklearn.model_selection import RandomizedSearchCV\n",
    "from sklearn.model_selection import GridSearchCV\n",
    "\n",
    "#Padding and embeddings - bi-LSTM\n",
    "import tensorflow as tf\n",
    "from tensorflow.keras.preprocessing.text import Tokenizer\n",
    "from tensorflow.keras.preprocessing.sequence import pad_sequences\n",
    "\n",
    "#bi-LSTM model - Keras\n",
    "import tensorflow as tf\n",
    "from tensorflow.keras.callbacks import EarlyStopping\n",
    "from tensorflow.keras.models import Sequential\n",
    "from tensorflow.keras.layers import Embedding, Bidirectional, Dense, Dropout, LSTM, Flatten\n",
    "from tensorflow.keras.regularizers import l2\n",
    "\n",
    "#Model saving\n",
    "import joblib\n",
    "\n",
    "#text preprocessing - LLM\n",
    "from gensim.utils import simple_preprocess\n",
    "from sklearn.preprocessing import LabelEncoder\n",
    "\n",
    "#Fine-tune LLM - PyTorch\n",
    "import torch\n",
    "import torch.nn as nn\n",
    "import torch.optim as optim\n",
    "import torch.nn.functional as F\n",
    "from torch.utils.data import DataLoader, TensorDataset\n",
    "\n",
    "#Fine-tune LLM - HuggingFace\n",
    "from transformers import AlbertTokenizer, AlbertForSequenceClassification\n",
    "from transformers import Trainer, TrainingArguments\n",
    "from transformers import AlbertForSequenceClassification, AlbertConfig\n",
    "\n",
    "#Create custom dataset\n",
    "from torch.utils.data import Dataset"
   ]
  },
  {
   "cell_type": "markdown",
   "metadata": {
    "id": "FrlP9CJTZDUm"
   },
   "source": [
    "# Part II: Data Engineering: combining and cleaning different datasets"
   ]
  },
  {
   "cell_type": "markdown",
   "metadata": {
    "id": "MmK0AdtqOpKA"
   },
   "source": [
    "**Dataset 1: GOSU.ai dota 2 chat dataset**"
   ]
  },
  {
   "cell_type": "code",
   "execution_count": 3,
   "metadata": {
    "colab": {
     "base_uri": "https://localhost:8080/",
     "height": 206
    },
    "id": "lRgZ0NUNZeGz",
    "outputId": "fd3a16df-8851-49ba-800f-2e487bc95d86"
   },
   "outputs": [
    {
     "data": {
      "text/html": [
       "<div>\n",
       "<style scoped>\n",
       "    .dataframe tbody tr th:only-of-type {\n",
       "        vertical-align: middle;\n",
       "    }\n",
       "\n",
       "    .dataframe tbody tr th {\n",
       "        vertical-align: top;\n",
       "    }\n",
       "\n",
       "    .dataframe thead th {\n",
       "        text-align: right;\n",
       "    }\n",
       "</style>\n",
       "<table border=\"1\" class=\"dataframe\">\n",
       "  <thead>\n",
       "    <tr style=\"text-align: right;\">\n",
       "      <th></th>\n",
       "      <th>Unnamed: 0</th>\n",
       "      <th>match</th>\n",
       "      <th>time</th>\n",
       "      <th>slot</th>\n",
       "      <th>text</th>\n",
       "      <th>target</th>\n",
       "    </tr>\n",
       "  </thead>\n",
       "  <tbody>\n",
       "    <tr>\n",
       "      <th>0</th>\n",
       "      <td>2</td>\n",
       "      <td>2</td>\n",
       "      <td>2263.90490</td>\n",
       "      <td>4</td>\n",
       "      <td>COMMEND ME TY</td>\n",
       "      <td>0</td>\n",
       "    </tr>\n",
       "    <tr>\n",
       "      <th>1</th>\n",
       "      <td>7</td>\n",
       "      <td>6</td>\n",
       "      <td>242.54080</td>\n",
       "      <td>8</td>\n",
       "      <td>sorry nex</td>\n",
       "      <td>0</td>\n",
       "    </tr>\n",
       "    <tr>\n",
       "      <th>2</th>\n",
       "      <td>11</td>\n",
       "      <td>6</td>\n",
       "      <td>2279.16280</td>\n",
       "      <td>2</td>\n",
       "      <td>what is the best soup?</td>\n",
       "      <td>0</td>\n",
       "    </tr>\n",
       "    <tr>\n",
       "      <th>3</th>\n",
       "      <td>18</td>\n",
       "      <td>9</td>\n",
       "      <td>1011.11982</td>\n",
       "      <td>4</td>\n",
       "      <td>man that silence on axe</td>\n",
       "      <td>0</td>\n",
       "    </tr>\n",
       "    <tr>\n",
       "      <th>4</th>\n",
       "      <td>21</td>\n",
       "      <td>9</td>\n",
       "      <td>1769.30452</td>\n",
       "      <td>3</td>\n",
       "      <td>not coming into play</td>\n",
       "      <td>0</td>\n",
       "    </tr>\n",
       "  </tbody>\n",
       "</table>\n",
       "</div>"
      ],
      "text/plain": [
       "   Unnamed: 0  match        time  slot                     text  target\n",
       "0           2      2  2263.90490     4            COMMEND ME TY       0\n",
       "1           7      6   242.54080     8                sorry nex       0\n",
       "2          11      6  2279.16280     2   what is the best soup?       0\n",
       "3          18      9  1011.11982     4  man that silence on axe       0\n",
       "4          21      9  1769.30452     3     not coming into play       0"
      ]
     },
     "execution_count": 3,
     "metadata": {},
     "output_type": "execute_result"
    }
   ],
   "source": [
    "#Load the dataset\n",
    "path = 'tagged-data.csv'\n",
    "dota2_df = pd.read_csv(path)\n",
    "dota2_df.head(5)"
   ]
  },
  {
   "cell_type": "code",
   "execution_count": 4,
   "metadata": {},
   "outputs": [],
   "source": [
    "#By convention, 0 represents negative, and 1 represents positive\n",
    "#In this case, mildly negative will be transformed to negative\n",
    "dota2_df['target'] = dota2_df['target'].replace({1: 0, 2: 0, 0: 1})"
   ]
  },
  {
   "cell_type": "code",
   "execution_count": 5,
   "metadata": {
    "scrolled": true
   },
   "outputs": [
    {
     "data": {
      "text/plain": [
       "Unnamed: 0    False\n",
       "match         False\n",
       "time          False\n",
       "slot          False\n",
       "text          False\n",
       "target        False\n",
       "dtype: bool"
      ]
     },
     "execution_count": 5,
     "metadata": {},
     "output_type": "execute_result"
    }
   ],
   "source": [
    "#Check for any null data\n",
    "dota2_df.isnull().any()"
   ]
  },
  {
   "cell_type": "code",
   "execution_count": 13,
   "metadata": {
    "id": "6ohpZimmXaL5"
   },
   "outputs": [],
   "source": [
    "#Apply clean functions and drop unused parts of the data frame\n",
    "dota2_df['text_cleaned'] = dota2_df['text'].apply(clean).str.lower()\n",
    "columns_to_drop = ['match', 'time', 'slot']\n",
    "dota2_df = dota2_df.drop(columns = columns_to_drop)"
   ]
  },
  {
   "cell_type": "code",
   "execution_count": 14,
   "metadata": {
    "colab": {
     "base_uri": "https://localhost:8080/",
     "height": 333
    },
    "id": "0pnFwc1VZ-b7",
    "outputId": "c56b47d6-b650-425e-a658-0ad289808891"
   },
   "outputs": [
    {
     "data": {
      "image/png": "[encoded data removed]",
      "text/plain": [
       "<Figure size 360x216 with 1 Axes>"
      ]
     },
     "metadata": {
      "needs_background": "light"
     },
     "output_type": "display_data"
    }
   ],
   "source": [
    "#Plot the distribution of negative and positive values\n",
    "\n",
    "plt.figure(figsize = (5, 3))\n",
    "plt.hist(dota2_df['target'], bins = 2)\n",
    "\n",
    "plt.title('Distribution of Dota 2 Chat Sentiments')\n",
    "plt.xlabel('Sentiment')\n",
    "plt.ylabel('Count')\n",
    "\n",
    "plt.xticks([0, 1], ['negative', 'neutral'])\n",
    "\n",
    "plt.show()"
   ]
  },
  {
   "cell_type": "code",
   "execution_count": 15,
   "metadata": {
    "colab": {
     "base_uri": "https://localhost:8080/",
     "height": 423
    },
    "id": "gpAuokTUUuGt",
    "outputId": "1bbf33a7-4439-42eb-9702-d489d1f2120e"
   },
   "outputs": [
    {
     "data": {
      "text/html": [
       "<div>\n",
       "<style scoped>\n",
       "    .dataframe tbody tr th:only-of-type {\n",
       "        vertical-align: middle;\n",
       "    }\n",
       "\n",
       "    .dataframe tbody tr th {\n",
       "        vertical-align: top;\n",
       "    }\n",
       "\n",
       "    .dataframe thead th {\n",
       "        text-align: right;\n",
       "    }\n",
       "</style>\n",
       "<table border=\"1\" class=\"dataframe\">\n",
       "  <thead>\n",
       "    <tr style=\"text-align: right;\">\n",
       "      <th></th>\n",
       "      <th>Unnamed: 0</th>\n",
       "      <th>text</th>\n",
       "      <th>target</th>\n",
       "      <th>text_cleaned</th>\n",
       "    </tr>\n",
       "  </thead>\n",
       "  <tbody>\n",
       "    <tr>\n",
       "      <th>0</th>\n",
       "      <td>2</td>\n",
       "      <td>COMMEND ME TY</td>\n",
       "      <td>1</td>\n",
       "      <td>commend me ty</td>\n",
       "    </tr>\n",
       "    <tr>\n",
       "      <th>1</th>\n",
       "      <td>7</td>\n",
       "      <td>sorry nex</td>\n",
       "      <td>1</td>\n",
       "      <td>sorry nex</td>\n",
       "    </tr>\n",
       "    <tr>\n",
       "      <th>2</th>\n",
       "      <td>11</td>\n",
       "      <td>what is the best soup?</td>\n",
       "      <td>1</td>\n",
       "      <td>what is the best soup</td>\n",
       "    </tr>\n",
       "    <tr>\n",
       "      <th>3</th>\n",
       "      <td>18</td>\n",
       "      <td>man that silence on axe</td>\n",
       "      <td>1</td>\n",
       "      <td>man that silence on axe</td>\n",
       "    </tr>\n",
       "    <tr>\n",
       "      <th>4</th>\n",
       "      <td>21</td>\n",
       "      <td>not coming into play</td>\n",
       "      <td>1</td>\n",
       "      <td>not coming into play</td>\n",
       "    </tr>\n",
       "    <tr>\n",
       "      <th>...</th>\n",
       "      <td>...</td>\n",
       "      <td>...</td>\n",
       "      <td>...</td>\n",
       "      <td>...</td>\n",
       "    </tr>\n",
       "    <tr>\n",
       "      <th>3262</th>\n",
       "      <td>9986</td>\n",
       "      <td>wt?f?asfU JGOFIDLK,YH</td>\n",
       "      <td>0</td>\n",
       "      <td>wtfasfu jgofidlkyh</td>\n",
       "    </tr>\n",
       "    <tr>\n",
       "      <th>3263</th>\n",
       "      <td>10003</td>\n",
       "      <td>you must really suck</td>\n",
       "      <td>0</td>\n",
       "      <td>you must really suck</td>\n",
       "    </tr>\n",
       "    <tr>\n",
       "      <th>3264</th>\n",
       "      <td>10007</td>\n",
       "      <td>YOU HAVE IDIOT PLAYER</td>\n",
       "      <td>0</td>\n",
       "      <td>you have idiot player</td>\n",
       "    </tr>\n",
       "    <tr>\n",
       "      <th>3265</th>\n",
       "      <td>10010</td>\n",
       "      <td>SUPER IDIOT</td>\n",
       "      <td>0</td>\n",
       "      <td>super idiot</td>\n",
       "    </tr>\n",
       "    <tr>\n",
       "      <th>3266</th>\n",
       "      <td>10015</td>\n",
       "      <td>fuck off weab</td>\n",
       "      <td>0</td>\n",
       "      <td>fuck off weab</td>\n",
       "    </tr>\n",
       "  </tbody>\n",
       "</table>\n",
       "<p>3267 rows × 4 columns</p>\n",
       "</div>"
      ],
      "text/plain": [
       "      Unnamed: 0                     text  target             text_cleaned\n",
       "0              2            COMMEND ME TY       1            commend me ty\n",
       "1              7                sorry nex       1                sorry nex\n",
       "2             11   what is the best soup?       1    what is the best soup\n",
       "3             18  man that silence on axe       1  man that silence on axe\n",
       "4             21     not coming into play       1     not coming into play\n",
       "...          ...                      ...     ...                      ...\n",
       "3262        9986    wt?f?asfU JGOFIDLK,YH       0       wtfasfu jgofidlkyh\n",
       "3263       10003     you must really suck       0     you must really suck\n",
       "3264       10007    YOU HAVE IDIOT PLAYER       0    you have idiot player\n",
       "3265       10010              SUPER IDIOT       0              super idiot\n",
       "3266       10015            fuck off weab       0            fuck off weab\n",
       "\n",
       "[3267 rows x 4 columns]"
      ]
     },
     "execution_count": 15,
     "metadata": {},
     "output_type": "execute_result"
    }
   ],
   "source": [
    "#View the transformed data\n",
    "dota2_df"
   ]
  },
  {
   "cell_type": "code",
   "execution_count": 16,
   "metadata": {
    "colab": {
     "base_uri": "https://localhost:8080/"
    },
    "id": "YZ0hygEhVbk9",
    "outputId": "acf80867-3184-493b-bbad-c9f469da26a2"
   },
   "outputs": [
    {
     "name": "stdout",
     "output_type": "stream",
     "text": [
      "negative: 1467\n",
      "positive: 1800\n"
     ]
    }
   ],
   "source": [
    "#The number of negative vs. positive\n",
    "print(f\"negative: {dota2_df['target'].value_counts().get(0, 0)}\")\n",
    "print(f\"positive: {dota2_df['target'].value_counts().get(1, 0)}\")"
   ]
  },
  {
   "cell_type": "markdown",
   "metadata": {
    "id": "L1aoT2LmQKcO"
   },
   "source": [
    "**Loading Dataset 2: Social Media Comments on Gaming**"
   ]
  },
  {
   "cell_type": "code",
   "execution_count": 17,
   "metadata": {
    "colab": {
     "base_uri": "https://localhost:8080/",
     "height": 206
    },
    "id": "V3AzTlBSQPN7",
    "outputId": "e8e275f9-f499-401c-97bb-70bcae032393"
   },
   "outputs": [
    {
     "data": {
      "text/html": [
       "<div>\n",
       "<style scoped>\n",
       "    .dataframe tbody tr th:only-of-type {\n",
       "        vertical-align: middle;\n",
       "    }\n",
       "\n",
       "    .dataframe tbody tr th {\n",
       "        vertical-align: top;\n",
       "    }\n",
       "\n",
       "    .dataframe thead th {\n",
       "        text-align: right;\n",
       "    }\n",
       "</style>\n",
       "<table border=\"1\" class=\"dataframe\">\n",
       "  <thead>\n",
       "    <tr style=\"text-align: right;\">\n",
       "      <th></th>\n",
       "      <th>Unnamed: 0</th>\n",
       "      <th>comment</th>\n",
       "      <th>sentiment</th>\n",
       "    </tr>\n",
       "  </thead>\n",
       "  <tbody>\n",
       "    <tr>\n",
       "      <th>0</th>\n",
       "      <td>0</td>\n",
       "      <td>dont think like game havent even played minute...</td>\n",
       "      <td>negative</td>\n",
       "    </tr>\n",
       "    <tr>\n",
       "      <th>1</th>\n",
       "      <td>1</td>\n",
       "      <td>leave farm smaller creature either wait help k...</td>\n",
       "      <td>negative</td>\n",
       "    </tr>\n",
       "    <tr>\n",
       "      <th>2</th>\n",
       "      <td>2</td>\n",
       "      <td>nothing beat feeling get see fall love like ye...</td>\n",
       "      <td>positive</td>\n",
       "    </tr>\n",
       "    <tr>\n",
       "      <th>3</th>\n",
       "      <td>3</td>\n",
       "      <td>also theyre made paper edit tried make gif fai...</td>\n",
       "      <td>negative</td>\n",
       "    </tr>\n",
       "    <tr>\n",
       "      <th>4</th>\n",
       "      <td>4</td>\n",
       "      <td>haha exactly brother tried get wow run raid ge...</td>\n",
       "      <td>positive</td>\n",
       "    </tr>\n",
       "  </tbody>\n",
       "</table>\n",
       "</div>"
      ],
      "text/plain": [
       "   Unnamed: 0                                            comment sentiment\n",
       "0           0  dont think like game havent even played minute...  negative\n",
       "1           1  leave farm smaller creature either wait help k...  negative\n",
       "2           2  nothing beat feeling get see fall love like ye...  positive\n",
       "3           3  also theyre made paper edit tried make gif fai...  negative\n",
       "4           4  haha exactly brother tried get wow run raid ge...  positive"
      ]
     },
     "execution_count": 17,
     "metadata": {},
     "output_type": "execute_result"
    }
   ],
   "source": [
    "#Load and view the dataset\n",
    "path = 'cleaned_comments.csv'\n",
    "sm_df = pd.read_csv(path)\n",
    "sm_df.head(5)"
   ]
  },
  {
   "cell_type": "code",
   "execution_count": 18,
   "metadata": {
    "colab": {
     "base_uri": "https://localhost:8080/"
    },
    "id": "GtyPkkO6XrW9",
    "outputId": "2a8667a6-c7c1-4f5e-a412-c78a494ca091"
   },
   "outputs": [
    {
     "data": {
      "text/plain": [
       "Unnamed: 0    False\n",
       "comment        True\n",
       "sentiment     False\n",
       "dtype: bool"
      ]
     },
     "execution_count": 18,
     "metadata": {},
     "output_type": "execute_result"
    }
   ],
   "source": [
    "#Check for nullity\n",
    "sm_df.isnull().any()"
   ]
  },
  {
   "cell_type": "code",
   "execution_count": 19,
   "metadata": {
    "id": "RJdXg9kcX4P8"
   },
   "outputs": [],
   "source": [
    "#Drop null rows\n",
    "sm_df.dropna(subset = 'comment', inplace = True)"
   ]
  },
  {
   "cell_type": "code",
   "execution_count": 20,
   "metadata": {
    "colab": {
     "base_uri": "https://localhost:8080/"
    },
    "id": "0qMg14tMSLAW",
    "outputId": "7a34eb11-f178-4514-e543-c7e67e41f8a5"
   },
   "outputs": [],
   "source": [
    "#Drop comments with more than 150 characters, delete the extra column after usage\n",
    "\n",
    "sm_df['comment'] = sm_df['comment'].astype(str)\n",
    "\n",
    "sm_df['text_length'] = sm_df['comment'].apply(len)\n",
    "sm_df = sm_df[sm_df['text_length'] <= 150]\n",
    "sm_df.drop(columns = ['text_length'], inplace = True)"
   ]
  },
  {
   "cell_type": "code",
   "execution_count": 43,
   "metadata": {
    "id": "aBJ_ptgDQitY"
   },
   "outputs": [],
   "source": [
    "#One-hot encode the target and clean the data\n",
    "sm_df['sentiment'] = sm_df['sentiment'].replace({'negative': 0, 'neutral': 1, 'positive': 1})\n",
    "sm_df['text_cleaned'] = sm_df['comment'].apply(clean).str.lower()"
   ]
  },
  {
   "cell_type": "code",
   "execution_count": 44,
   "metadata": {
    "colab": {
     "base_uri": "https://localhost:8080/",
     "height": 423
    },
    "id": "Wwa6bmMLYYGV",
    "outputId": "c0043b5d-3e27-4019-be21-a881d122bf25"
   },
   "outputs": [
    {
     "data": {
      "text/html": [
       "<div>\n",
       "<style scoped>\n",
       "    .dataframe tbody tr th:only-of-type {\n",
       "        vertical-align: middle;\n",
       "    }\n",
       "\n",
       "    .dataframe tbody tr th {\n",
       "        vertical-align: top;\n",
       "    }\n",
       "\n",
       "    .dataframe thead th {\n",
       "        text-align: right;\n",
       "    }\n",
       "</style>\n",
       "<table border=\"1\" class=\"dataframe\">\n",
       "  <thead>\n",
       "    <tr style=\"text-align: right;\">\n",
       "      <th></th>\n",
       "      <th>Unnamed: 0</th>\n",
       "      <th>comment</th>\n",
       "      <th>sentiment</th>\n",
       "      <th>text_cleaned</th>\n",
       "    </tr>\n",
       "  </thead>\n",
       "  <tbody>\n",
       "    <tr>\n",
       "      <th>0</th>\n",
       "      <td>0</td>\n",
       "      <td>dont think like game havent even played minute...</td>\n",
       "      <td>0</td>\n",
       "      <td>dont think like game havent even played minute...</td>\n",
       "    </tr>\n",
       "    <tr>\n",
       "      <th>1</th>\n",
       "      <td>1</td>\n",
       "      <td>leave farm smaller creature either wait help k...</td>\n",
       "      <td>0</td>\n",
       "      <td>leave farm smaller creature either wait help k...</td>\n",
       "    </tr>\n",
       "    <tr>\n",
       "      <th>2</th>\n",
       "      <td>2</td>\n",
       "      <td>nothing beat feeling get see fall love like ye...</td>\n",
       "      <td>1</td>\n",
       "      <td>nothing beat feeling get see fall love like ye...</td>\n",
       "    </tr>\n",
       "    <tr>\n",
       "      <th>3</th>\n",
       "      <td>3</td>\n",
       "      <td>also theyre made paper edit tried make gif fai...</td>\n",
       "      <td>0</td>\n",
       "      <td>also theyre made paper edit tried make gif fai...</td>\n",
       "    </tr>\n",
       "    <tr>\n",
       "      <th>4</th>\n",
       "      <td>4</td>\n",
       "      <td>haha exactly brother tried get wow run raid ge...</td>\n",
       "      <td>1</td>\n",
       "      <td>haha exactly brother tried get wow run raid ge...</td>\n",
       "    </tr>\n",
       "    <tr>\n",
       "      <th>...</th>\n",
       "      <td>...</td>\n",
       "      <td>...</td>\n",
       "      <td>...</td>\n",
       "      <td>...</td>\n",
       "    </tr>\n",
       "    <tr>\n",
       "      <th>21816</th>\n",
       "      <td>23184</td>\n",
       "      <td>dont angry</td>\n",
       "      <td>1</td>\n",
       "      <td>dont angry</td>\n",
       "    </tr>\n",
       "    <tr>\n",
       "      <th>21817</th>\n",
       "      <td>23185</td>\n",
       "      <td>human free developed relationship esteemed fellow</td>\n",
       "      <td>1</td>\n",
       "      <td>human free developed relationship esteemed fellow</td>\n",
       "    </tr>\n",
       "    <tr>\n",
       "      <th>21818</th>\n",
       "      <td>23186</td>\n",
       "      <td>dont call shot around mister</td>\n",
       "      <td>1</td>\n",
       "      <td>dont call shot around mister</td>\n",
       "    </tr>\n",
       "    <tr>\n",
       "      <th>21819</th>\n",
       "      <td>23187</td>\n",
       "      <td>sorry going edit beauty mark face</td>\n",
       "      <td>1</td>\n",
       "      <td>sorry going edit beauty mark face</td>\n",
       "    </tr>\n",
       "    <tr>\n",
       "      <th>21820</th>\n",
       "      <td>23188</td>\n",
       "      <td>haha put part face kept disappearing fixed</td>\n",
       "      <td>1</td>\n",
       "      <td>haha put part face kept disappearing fixed</td>\n",
       "    </tr>\n",
       "  </tbody>\n",
       "</table>\n",
       "<p>19309 rows × 4 columns</p>\n",
       "</div>"
      ],
      "text/plain": [
       "       Unnamed: 0                                            comment  \\\n",
       "0               0  dont think like game havent even played minute...   \n",
       "1               1  leave farm smaller creature either wait help k...   \n",
       "2               2  nothing beat feeling get see fall love like ye...   \n",
       "3               3  also theyre made paper edit tried make gif fai...   \n",
       "4               4  haha exactly brother tried get wow run raid ge...   \n",
       "...           ...                                                ...   \n",
       "21816       23184                                         dont angry   \n",
       "21817       23185  human free developed relationship esteemed fellow   \n",
       "21818       23186                       dont call shot around mister   \n",
       "21819       23187                  sorry going edit beauty mark face   \n",
       "21820       23188         haha put part face kept disappearing fixed   \n",
       "\n",
       "       sentiment                                       text_cleaned  \n",
       "0              0  dont think like game havent even played minute...  \n",
       "1              0  leave farm smaller creature either wait help k...  \n",
       "2              1  nothing beat feeling get see fall love like ye...  \n",
       "3              0  also theyre made paper edit tried make gif fai...  \n",
       "4              1  haha exactly brother tried get wow run raid ge...  \n",
       "...          ...                                                ...  \n",
       "21816          1                                         dont angry  \n",
       "21817          1  human free developed relationship esteemed fellow  \n",
       "21818          1                       dont call shot around mister  \n",
       "21819          1                  sorry going edit beauty mark face  \n",
       "21820          1         haha put part face kept disappearing fixed  \n",
       "\n",
       "[19309 rows x 4 columns]"
      ]
     },
     "execution_count": 44,
     "metadata": {},
     "output_type": "execute_result"
    }
   ],
   "source": [
    "#View the cleaned data frame\n",
    "sm_df"
   ]
  },
  {
   "cell_type": "code",
   "execution_count": 45,
   "metadata": {
    "colab": {
     "base_uri": "https://localhost:8080/",
     "height": 333
    },
    "id": "_RUSulMUVCf3",
    "outputId": "22158260-f6da-4df3-fc24-37749fea2dbd"
   },
   "outputs": [
    {
     "data": {
      "image/png": "[encoded data removed]",
      "text/plain": [
       "<Figure size 360x216 with 1 Axes>"
      ]
     },
     "metadata": {
      "needs_background": "light"
     },
     "output_type": "display_data"
    }
   ],
   "source": [
    "#Plot the distribution of sentiments\n",
    "#Since there are siginifcant differences, we need to add a third dataset\n",
    "\n",
    "plt.figure(figsize = (5, 3))\n",
    "plt.hist(sm_df['sentiment'], bins = 2)\n",
    "\n",
    "plt.title('Social Media Sentiments on Gaming')\n",
    "plt.xlabel('Sentiment')\n",
    "plt.ylabel('Count')\n",
    "\n",
    "plt.xticks([0, 1], ['negative', 'neutral'])\n",
    "\n",
    "plt.show()"
   ]
  },
  {
   "cell_type": "code",
   "execution_count": 46,
   "metadata": {
    "colab": {
     "base_uri": "https://localhost:8080/"
    },
    "id": "pb1O29zWWAON",
    "outputId": "72377b27-a046-4b18-828b-ab380f3dc503"
   },
   "outputs": [
    {
     "name": "stdout",
     "output_type": "stream",
     "text": [
      "negative: 3375\n",
      "positive: 15934\n"
     ]
    }
   ],
   "source": [
    "#The difference is roughly 13,000\n",
    "print(f\"negative: {sm_df['sentiment'].value_counts().get(0, 0)}\")\n",
    "print(f\"positive: {sm_df['sentiment'].value_counts().get(1, 0)}\")"
   ]
  },
  {
   "cell_type": "markdown",
   "metadata": {
    "id": "vpPd0AFVWV2G"
   },
   "source": [
    "**Dataset 3: League of Legends Tribunal Chat Log**"
   ]
  },
  {
   "cell_type": "code",
   "execution_count": 26,
   "metadata": {
    "colab": {
     "base_uri": "https://localhost:8080/",
     "height": 241
    },
    "id": "5P6om3uwWctv",
    "outputId": "c49f2091-7317-4c69-91c4-3d051d21277c"
   },
   "outputs": [
    {
     "data": {
      "text/html": [
       "<div>\n",
       "<style scoped>\n",
       "    .dataframe tbody tr th:only-of-type {\n",
       "        vertical-align: middle;\n",
       "    }\n",
       "\n",
       "    .dataframe tbody tr th {\n",
       "        vertical-align: top;\n",
       "    }\n",
       "\n",
       "    .dataframe thead th {\n",
       "        text-align: right;\n",
       "    }\n",
       "</style>\n",
       "<table border=\"1\" class=\"dataframe\">\n",
       "  <thead>\n",
       "    <tr style=\"text-align: right;\">\n",
       "      <th></th>\n",
       "      <th>Unnamed: 0</th>\n",
       "      <th>message</th>\n",
       "      <th>association_to_offender</th>\n",
       "      <th>time</th>\n",
       "      <th>case_total_reports</th>\n",
       "      <th>allied_report_count</th>\n",
       "      <th>enemy_report_count</th>\n",
       "      <th>most_common_report_reason</th>\n",
       "      <th>chatlog_id</th>\n",
       "      <th>champion_name</th>\n",
       "    </tr>\n",
       "  </thead>\n",
       "  <tbody>\n",
       "    <tr>\n",
       "      <th>0</th>\n",
       "      <td>0</td>\n",
       "      <td>gold 2 zed</td>\n",
       "      <td>enemy</td>\n",
       "      <td>00:00:21</td>\n",
       "      <td>8</td>\n",
       "      <td>0</td>\n",
       "      <td>2</td>\n",
       "      <td>Negative Attitude</td>\n",
       "      <td>1</td>\n",
       "      <td>Udyr</td>\n",
       "    </tr>\n",
       "    <tr>\n",
       "      <th>1</th>\n",
       "      <td>1</td>\n",
       "      <td>IIII</td>\n",
       "      <td>enemy</td>\n",
       "      <td>00:00:27</td>\n",
       "      <td>8</td>\n",
       "      <td>0</td>\n",
       "      <td>2</td>\n",
       "      <td>Negative Attitude</td>\n",
       "      <td>1</td>\n",
       "      <td>Riven</td>\n",
       "    </tr>\n",
       "    <tr>\n",
       "      <th>2</th>\n",
       "      <td>2</td>\n",
       "      <td>nice premade lie :o</td>\n",
       "      <td>enemy</td>\n",
       "      <td>00:00:27</td>\n",
       "      <td>8</td>\n",
       "      <td>0</td>\n",
       "      <td>2</td>\n",
       "      <td>Negative Attitude</td>\n",
       "      <td>1</td>\n",
       "      <td>Udyr</td>\n",
       "    </tr>\n",
       "    <tr>\n",
       "      <th>3</th>\n",
       "      <td>3</td>\n",
       "      <td>ISI</td>\n",
       "      <td>enemy</td>\n",
       "      <td>00:00:28</td>\n",
       "      <td>8</td>\n",
       "      <td>0</td>\n",
       "      <td>2</td>\n",
       "      <td>Negative Attitude</td>\n",
       "      <td>1</td>\n",
       "      <td>Riven</td>\n",
       "    </tr>\n",
       "    <tr>\n",
       "      <th>4</th>\n",
       "      <td>4</td>\n",
       "      <td>smiteless pls</td>\n",
       "      <td>enemy</td>\n",
       "      <td>00:00:43</td>\n",
       "      <td>8</td>\n",
       "      <td>0</td>\n",
       "      <td>2</td>\n",
       "      <td>Negative Attitude</td>\n",
       "      <td>1</td>\n",
       "      <td>Udyr</td>\n",
       "    </tr>\n",
       "  </tbody>\n",
       "</table>\n",
       "</div>"
      ],
      "text/plain": [
       "   Unnamed: 0              message association_to_offender      time  \\\n",
       "0           0           gold 2 zed                   enemy  00:00:21   \n",
       "1           1                 IIII                   enemy  00:00:27   \n",
       "2           2  nice premade lie :o                   enemy  00:00:27   \n",
       "3           3                  ISI                   enemy  00:00:28   \n",
       "4           4        smiteless pls                   enemy  00:00:43   \n",
       "\n",
       "   case_total_reports  allied_report_count  enemy_report_count  \\\n",
       "0                   8                    0                   2   \n",
       "1                   8                    0                   2   \n",
       "2                   8                    0                   2   \n",
       "3                   8                    0                   2   \n",
       "4                   8                    0                   2   \n",
       "\n",
       "  most_common_report_reason  chatlog_id champion_name  \n",
       "0         Negative Attitude           1          Udyr  \n",
       "1         Negative Attitude           1         Riven  \n",
       "2         Negative Attitude           1          Udyr  \n",
       "3         Negative Attitude           1         Riven  \n",
       "4         Negative Attitude           1          Udyr  "
      ]
     },
     "execution_count": 26,
     "metadata": {},
     "output_type": "execute_result"
    }
   ],
   "source": [
    "#Load and view the dataset\n",
    "#Note that this dataset only contains negative sentiments\n",
    "path = 'chatlogs.csv'\n",
    "lol_df = pd.read_csv(path)\n",
    "lol_df.head(5)"
   ]
  },
  {
   "cell_type": "code",
   "execution_count": 27,
   "metadata": {
    "colab": {
     "base_uri": "https://localhost:8080/"
    },
    "id": "-T-zAVfgZvBn",
    "outputId": "0f5fd1ec-232d-4a3d-87ed-3f3f8732528b"
   },
   "outputs": [
    {
     "data": {
      "text/plain": [
       "Unnamed: 0                   False\n",
       "message                       True\n",
       "association_to_offender       True\n",
       "time                         False\n",
       "case_total_reports           False\n",
       "allied_report_count          False\n",
       "enemy_report_count           False\n",
       "most_common_report_reason    False\n",
       "chatlog_id                   False\n",
       "champion_name                 True\n",
       "dtype: bool"
      ]
     },
     "execution_count": 27,
     "metadata": {},
     "output_type": "execute_result"
    }
   ],
   "source": [
    "#Check for nullity\n",
    "lol_df.isnull().any()"
   ]
  },
  {
   "cell_type": "code",
   "execution_count": 28,
   "metadata": {
    "id": "2xo7eoo7Z3i_"
   },
   "outputs": [],
   "source": [
    "#Drop null rows\n",
    "lol_df.dropna(subset = 'message', inplace = True)"
   ]
  },
  {
   "cell_type": "code",
   "execution_count": 29,
   "metadata": {
    "id": "RKYVhTx5YwOB"
   },
   "outputs": [],
   "source": [
    "#Since there are roughly 1,000,000 records on this dataset, we only take a subset of 15,000 in this part of the project\n",
    "#The remaining data will be saved for the second part\n",
    "lol_sample_df = lol_df.sample(n = 15000, random_state = 42)\n",
    "lol_remaining_df = lol_df.drop(lol_sample_df.index)"
   ]
  },
  {
   "cell_type": "code",
   "execution_count": 30,
   "metadata": {
    "id": "1zpe2liYaXQT"
   },
   "outputs": [],
   "source": [
    "#Drop the unused columns of the splitted data frame\n",
    "columns_to_drop = ['association_to_offender', 'time', 'case_total_reports', 'allied_report_count', 'enemy_report_count', 'most_common_report_reason', 'chatlog_id', 'champion_name']\n",
    "lol_sample_df = lol_sample_df.drop(columns = columns_to_drop)\n",
    "\n",
    "#Create a new column target will all values initiated to 0\n",
    "#Since all sentiments here are negative\n",
    "lol_sample_df['target'] = 0"
   ]
  },
  {
   "cell_type": "code",
   "execution_count": 39,
   "metadata": {
    "id": "iSS7O6VQbYD6"
   },
   "outputs": [],
   "source": [
    "#Clean the texts\n",
    "lol_sample_df['text_cleaned'] = lol_sample_df['message'].apply(clean).str.lower()"
   ]
  },
  {
   "cell_type": "code",
   "execution_count": 40,
   "metadata": {
    "colab": {
     "base_uri": "https://localhost:8080/",
     "height": 423
    },
    "id": "-nGJv1IQbewN",
    "outputId": "58b293c3-1c33-495e-a8b5-c1f9d105f440"
   },
   "outputs": [
    {
     "data": {
      "text/html": [
       "<div>\n",
       "<style scoped>\n",
       "    .dataframe tbody tr th:only-of-type {\n",
       "        vertical-align: middle;\n",
       "    }\n",
       "\n",
       "    .dataframe tbody tr th {\n",
       "        vertical-align: top;\n",
       "    }\n",
       "\n",
       "    .dataframe thead th {\n",
       "        text-align: right;\n",
       "    }\n",
       "</style>\n",
       "<table border=\"1\" class=\"dataframe\">\n",
       "  <thead>\n",
       "    <tr style=\"text-align: right;\">\n",
       "      <th></th>\n",
       "      <th>Unnamed: 0</th>\n",
       "      <th>message</th>\n",
       "      <th>target</th>\n",
       "      <th>text_cleaned</th>\n",
       "    </tr>\n",
       "  </thead>\n",
       "  <tbody>\n",
       "    <tr>\n",
       "      <th>511078</th>\n",
       "      <td>511078</td>\n",
       "      <td>u are the most moron player i have ever see</td>\n",
       "      <td>0</td>\n",
       "      <td>u are the most moron player i have ever see</td>\n",
       "    </tr>\n",
       "    <tr>\n",
       "      <th>127527</th>\n",
       "      <td>127527</td>\n",
       "      <td>so u go and suicide</td>\n",
       "      <td>0</td>\n",
       "      <td>so u go and suicide</td>\n",
       "    </tr>\n",
       "    <tr>\n",
       "      <th>1469114</th>\n",
       "      <td>1469114</td>\n",
       "      <td>graves</td>\n",
       "      <td>0</td>\n",
       "      <td>graves</td>\n",
       "    </tr>\n",
       "    <tr>\n",
       "      <th>1052704</th>\n",
       "      <td>1052704</td>\n",
       "      <td>do blue</td>\n",
       "      <td>0</td>\n",
       "      <td>do blue</td>\n",
       "    </tr>\n",
       "    <tr>\n",
       "      <th>1357793</th>\n",
       "      <td>1357793</td>\n",
       "      <td>no life and no mana ? open ur eyes ;)</td>\n",
       "      <td>0</td>\n",
       "      <td>no life and no mana  open ur eyes</td>\n",
       "    </tr>\n",
       "    <tr>\n",
       "      <th>...</th>\n",
       "      <td>...</td>\n",
       "      <td>...</td>\n",
       "      <td>...</td>\n",
       "      <td>...</td>\n",
       "    </tr>\n",
       "    <tr>\n",
       "      <th>1063359</th>\n",
       "      <td>1063359</td>\n",
       "      <td>wtf ?</td>\n",
       "      <td>0</td>\n",
       "      <td>wtf</td>\n",
       "    </tr>\n",
       "    <tr>\n",
       "      <th>639004</th>\n",
       "      <td>639004</td>\n",
       "      <td>he is weird</td>\n",
       "      <td>0</td>\n",
       "      <td>he is weird</td>\n",
       "    </tr>\n",
       "    <tr>\n",
       "      <th>995203</th>\n",
       "      <td>995203</td>\n",
       "      <td>ward baron maybe?</td>\n",
       "      <td>0</td>\n",
       "      <td>ward baron maybe</td>\n",
       "    </tr>\n",
       "    <tr>\n",
       "      <th>1032569</th>\n",
       "      <td>1032569</td>\n",
       "      <td>ashe... don't be so proud of urself.... u're n...</td>\n",
       "      <td>0</td>\n",
       "      <td>ashe dont be so proud of urself ure not even good</td>\n",
       "    </tr>\n",
       "    <tr>\n",
       "      <th>4493</th>\n",
       "      <td>4493</td>\n",
       "      <td>w.e</td>\n",
       "      <td>0</td>\n",
       "      <td>we</td>\n",
       "    </tr>\n",
       "  </tbody>\n",
       "</table>\n",
       "<p>15000 rows × 4 columns</p>\n",
       "</div>"
      ],
      "text/plain": [
       "         Unnamed: 0                                            message  \\\n",
       "511078       511078        u are the most moron player i have ever see   \n",
       "127527       127527                                so u go and suicide   \n",
       "1469114     1469114                                             graves   \n",
       "1052704     1052704                                            do blue   \n",
       "1357793     1357793              no life and no mana ? open ur eyes ;)   \n",
       "...             ...                                                ...   \n",
       "1063359     1063359                                              wtf ?   \n",
       "639004       639004                                        he is weird   \n",
       "995203       995203                                  ward baron maybe?   \n",
       "1032569     1032569  ashe... don't be so proud of urself.... u're n...   \n",
       "4493           4493                                                w.e   \n",
       "\n",
       "         target                                       text_cleaned  \n",
       "511078        0        u are the most moron player i have ever see  \n",
       "127527        0                                so u go and suicide  \n",
       "1469114       0                                             graves  \n",
       "1052704       0                                            do blue  \n",
       "1357793       0                 no life and no mana  open ur eyes   \n",
       "...         ...                                                ...  \n",
       "1063359       0                                               wtf   \n",
       "639004        0                                        he is weird  \n",
       "995203        0                                   ward baron maybe  \n",
       "1032569       0  ashe dont be so proud of urself ure not even good  \n",
       "4493          0                                                 we  \n",
       "\n",
       "[15000 rows x 4 columns]"
      ]
     },
     "execution_count": 40,
     "metadata": {},
     "output_type": "execute_result"
    }
   ],
   "source": [
    "#View the cleaned data frame\n",
    "lol_sample_df"
   ]
  },
  {
   "cell_type": "markdown",
   "metadata": {
    "id": "LN0qoSXVbrSA"
   },
   "source": [
    "**Saving Remaining LOL Dataset for Future Usage**"
   ]
  },
  {
   "cell_type": "code",
   "execution_count": null,
   "metadata": {
    "colab": {
     "base_uri": "https://localhost:8080/",
     "height": 17
    },
    "id": "U123xNGVbv3W",
    "outputId": "079d7851-92de-4fc8-bb38-316d0a1677db"
   },
   "outputs": [],
   "source": [
    "#Download the remaining data frame\n",
    "\n",
    "lol_remaining_df.to_csv('lol_report_chat.csv', index=False)\n",
    "\n",
    "from google.colab import files\n",
    "files.download('lol_report_chat.csv')"
   ]
  },
  {
   "cell_type": "markdown",
   "metadata": {
    "id": "_gr_Y2eictYP"
   },
   "source": [
    "**Combining Data from the Three Datasets**"
   ]
  },
  {
   "cell_type": "code",
   "execution_count": 36,
   "metadata": {
    "colab": {
     "base_uri": "https://localhost:8080/"
    },
    "id": "ZJ--TtQsemGJ",
    "outputId": "755759c5-3071-4b2b-9cda-a03b25b2c2b5"
   },
   "outputs": [
    {
     "data": {
      "text/plain": [
       "0    0\n",
       "1    0\n",
       "2    0\n",
       "dtype: int64"
      ]
     },
     "execution_count": 36,
     "metadata": {},
     "output_type": "execute_result"
    }
   ],
   "source": [
    "#Combine the target column\n",
    "combined_sentiment = pd.concat([lol_sample_df['target'], sm_df['sentiment'], dota2_df['target']], ignore_index = True)\n",
    "\n",
    "combined_sentiment.head(3)"
   ]
  },
  {
   "cell_type": "code",
   "execution_count": 47,
   "metadata": {
    "colab": {
     "base_uri": "https://localhost:8080/"
    },
    "id": "yyGBGY7GcxPL",
    "outputId": "5171b345-a18a-4604-8671-fd5114728b39"
   },
   "outputs": [
    {
     "data": {
      "text/plain": [
       "0    u are the most moron player i have ever see\n",
       "1                            so u go and suicide\n",
       "2                                         graves\n",
       "Name: text_cleaned, dtype: object"
      ]
     },
     "execution_count": 47,
     "metadata": {},
     "output_type": "execute_result"
    }
   ],
   "source": [
    "#Combine the text column, preserve the order of the previous concatenation\n",
    "combined_text = pd.concat([lol_sample_df['text_cleaned'], sm_df['text_cleaned'], dota2_df['text_cleaned']], ignore_index = True)\n",
    "\n",
    "combined_text.head(3)"
   ]
  },
  {
   "cell_type": "code",
   "execution_count": 48,
   "metadata": {
    "id": "M0SyodMygLJT"
   },
   "outputs": [],
   "source": [
    "#Create a new data frame of the combined data\n",
    "\n",
    "data = {\n",
    "    'text': combined_text,\n",
    "    'target': combined_sentiment\n",
    "}\n",
    "\n",
    "df = pd.DataFrame(data)"
   ]
  },
  {
   "cell_type": "code",
   "execution_count": 49,
   "metadata": {
    "colab": {
     "base_uri": "https://localhost:8080/",
     "height": 423
    },
    "id": "iGM2qFPUglqs",
    "outputId": "e13b9fdf-961d-4326-9787-4ab3d6a52742"
   },
   "outputs": [
    {
     "data": {
      "text/html": [
       "<div>\n",
       "<style scoped>\n",
       "    .dataframe tbody tr th:only-of-type {\n",
       "        vertical-align: middle;\n",
       "    }\n",
       "\n",
       "    .dataframe tbody tr th {\n",
       "        vertical-align: top;\n",
       "    }\n",
       "\n",
       "    .dataframe thead th {\n",
       "        text-align: right;\n",
       "    }\n",
       "</style>\n",
       "<table border=\"1\" class=\"dataframe\">\n",
       "  <thead>\n",
       "    <tr style=\"text-align: right;\">\n",
       "      <th></th>\n",
       "      <th>text</th>\n",
       "      <th>target</th>\n",
       "    </tr>\n",
       "  </thead>\n",
       "  <tbody>\n",
       "    <tr>\n",
       "      <th>0</th>\n",
       "      <td>u are the most moron player i have ever see</td>\n",
       "      <td>0</td>\n",
       "    </tr>\n",
       "    <tr>\n",
       "      <th>1</th>\n",
       "      <td>so u go and suicide</td>\n",
       "      <td>0</td>\n",
       "    </tr>\n",
       "    <tr>\n",
       "      <th>2</th>\n",
       "      <td>graves</td>\n",
       "      <td>0</td>\n",
       "    </tr>\n",
       "    <tr>\n",
       "      <th>3</th>\n",
       "      <td>do blue</td>\n",
       "      <td>0</td>\n",
       "    </tr>\n",
       "    <tr>\n",
       "      <th>4</th>\n",
       "      <td>no life and no mana  open ur eyes</td>\n",
       "      <td>0</td>\n",
       "    </tr>\n",
       "    <tr>\n",
       "      <th>...</th>\n",
       "      <td>...</td>\n",
       "      <td>...</td>\n",
       "    </tr>\n",
       "    <tr>\n",
       "      <th>37571</th>\n",
       "      <td>wtfasfu jgofidlkyh</td>\n",
       "      <td>0</td>\n",
       "    </tr>\n",
       "    <tr>\n",
       "      <th>37572</th>\n",
       "      <td>you must really suck</td>\n",
       "      <td>0</td>\n",
       "    </tr>\n",
       "    <tr>\n",
       "      <th>37573</th>\n",
       "      <td>you have idiot player</td>\n",
       "      <td>0</td>\n",
       "    </tr>\n",
       "    <tr>\n",
       "      <th>37574</th>\n",
       "      <td>super idiot</td>\n",
       "      <td>0</td>\n",
       "    </tr>\n",
       "    <tr>\n",
       "      <th>37575</th>\n",
       "      <td>fuck off weab</td>\n",
       "      <td>0</td>\n",
       "    </tr>\n",
       "  </tbody>\n",
       "</table>\n",
       "<p>37576 rows × 2 columns</p>\n",
       "</div>"
      ],
      "text/plain": [
       "                                              text  target\n",
       "0      u are the most moron player i have ever see       0\n",
       "1                              so u go and suicide       0\n",
       "2                                           graves       0\n",
       "3                                          do blue       0\n",
       "4               no life and no mana  open ur eyes        0\n",
       "...                                            ...     ...\n",
       "37571                           wtfasfu jgofidlkyh       0\n",
       "37572                         you must really suck       0\n",
       "37573                        you have idiot player       0\n",
       "37574                                  super idiot       0\n",
       "37575                                fuck off weab       0\n",
       "\n",
       "[37576 rows x 2 columns]"
      ]
     },
     "execution_count": 49,
     "metadata": {},
     "output_type": "execute_result"
    }
   ],
   "source": [
    "#View the data frame\n",
    "df"
   ]
  },
  {
   "cell_type": "markdown",
   "metadata": {
    "id": "Oz5p57Kig7ih"
   },
   "source": [
    "**Downloading DataFrame for Further Usage**"
   ]
  },
  {
   "cell_type": "code",
   "execution_count": null,
   "metadata": {
    "colab": {
     "base_uri": "https://localhost:8080/",
     "height": 17
    },
    "id": "cyJA5Y9KhAYW",
    "outputId": "cd4f145a-448e-45e2-e70d-1a96473b6d65"
   },
   "outputs": [],
   "source": [
    "#Download the data frame into csv format\n",
    "\n",
    "df.to_csv('chat_classification.csv', index=False)\n",
    "\n",
    "from google.colab import files\n",
    "files.download('chat_classification.csv')"
   ]
  },
  {
   "cell_type": "markdown",
   "metadata": {
    "id": "OX_HJD2YdU5R"
   },
   "source": [
    "# Part III: External Functions"
   ]
  },
  {
   "cell_type": "markdown",
   "metadata": {},
   "source": [
    "**Text Cleaning**"
   ]
  },
  {
   "cell_type": "code",
   "execution_count": 8,
   "metadata": {
    "id": "vlXM-FuxeYUB"
   },
   "outputs": [],
   "source": [
    "def remove_url(text):\n",
    "  '''\n",
    "  Params:\n",
    "  text: a string\n",
    "  Returns:\n",
    "  the same string with possible urls removed\n",
    "  '''\n",
    "  return re.sub(r\"https?://\\S+|www\\.\\S+\", \"\", text)\n"
   ]
  },
  {
   "cell_type": "code",
   "execution_count": 9,
   "metadata": {
    "id": "GmMhvTr8eZfb"
   },
   "outputs": [],
   "source": [
    "def remove_html(text):\n",
    "  '''\n",
    "  Params:\n",
    "  text: a string\n",
    "  Returns:\n",
    "  the same string with possible htmls removed\n",
    "  '''\n",
    "  html = re.compile(r\"<.*?>|&([a-z0-9]+|#[0-9]{1,6}|#x[0-9a-f]{1,6});\")\n",
    "    \n",
    "  return re.sub(html, \"\", text)"
   ]
  },
  {
   "cell_type": "code",
   "execution_count": 10,
   "metadata": {
    "id": "TEPbpeTmf2vf"
   },
   "outputs": [],
   "source": [
    "def remove_non_ascii(text):\n",
    "  '''\n",
    "  Params:\n",
    "  text: a string\n",
    "  Returns:\n",
    "  the same string with possible htmls removed\n",
    "  '''\n",
    "  return re.sub(r'[^\\x00-\\x7f]',r'', text)"
   ]
  },
  {
   "cell_type": "code",
   "execution_count": 11,
   "metadata": {
    "id": "5Wqc__56gCXf"
   },
   "outputs": [],
   "source": [
    "def remove_special_characters(text):\n",
    "    \"\"\"\n",
    "    Params:\n",
    "    text: a string\n",
    "    Returns:\n",
    "    the same string with possible special special characters, including symbols, emojis, and other graphic characters removed\n",
    "    \"\"\"\n",
    "    emoji_pattern = re.compile(\n",
    "        '['\n",
    "        u'\\U0001F600-\\U0001F64F'\n",
    "        u'\\U0001F300-\\U0001F5FF'\n",
    "        u'\\U0001F680-\\U0001F6FF'\n",
    "        u'\\U0001F1E0-\\U0001F1FF'\n",
    "        u'\\U00002702-\\U000027B0'\n",
    "        u'\\U000024C2-\\U0001F251'\n",
    "        ']+',\n",
    "        flags=re.UNICODE)\n",
    "    return emoji_pattern.sub(r'', text)"
   ]
  },
  {
   "cell_type": "code",
   "execution_count": 12,
   "metadata": {
    "id": "-_MUaG5lgdsr"
   },
   "outputs": [],
   "source": [
    "def remove_punctuations(text):\n",
    "  '''\n",
    "  Params:\n",
    "  text: a string\n",
    "  Returns:\n",
    "  the same string with punctuations removed\n",
    "  '''\n",
    "  return text.translate(str.maketrans('', '', string.punctuation))"
   ]
  },
  {
   "cell_type": "code",
   "execution_count": 13,
   "metadata": {
    "id": "5u5xXES3gxA8"
   },
   "outputs": [],
   "source": [
    "def clean(text):\n",
    "  '''\n",
    "  Params:\n",
    "  text: a string\n",
    "  Returns:\n",
    "  a clean version of that text\n",
    "  '''\n",
    "  text = remove_url(text)\n",
    "  text = remove_html(text)\n",
    "  text = remove_special_characters(text)\n",
    "  text = remove_non_ascii(text)\n",
    "  text = remove_punctuations(text)\n",
    "\n",
    "  return text"
   ]
  },
  {
   "cell_type": "markdown",
   "metadata": {},
   "source": [
    "**Text Preprocessing**"
   ]
  },
  {
   "cell_type": "code",
   "execution_count": 14,
   "metadata": {},
   "outputs": [],
   "source": [
    "def spacy_tokenize(text):\n",
    "  '''\n",
    "  tokenize a single text object using spaCy\n",
    "  '''\n",
    "  doc = nlp(text)\n",
    "\n",
    "  return [token.text for token in doc]"
   ]
  },
  {
   "cell_type": "code",
   "execution_count": 15,
   "metadata": {},
   "outputs": [],
   "source": [
    "#Create a map for tagging\n",
    "wordnet_map = {\n",
    "  \"N\":wordnet.NOUN,\n",
    "  \"V\":wordnet.VERB,\n",
    "  \"J\":wordnet.ADJ,\n",
    "  \"R\":wordnet.ADV\n",
    "}\n",
    "\n",
    "train_sents = brown.tagged_sents(categories='news')\n",
    "t0 = nltk.DefaultTagger('NN')\n",
    "t1 = nltk.UnigramTagger(train_sents, backoff=t0)\n",
    "t2 = nltk.BigramTagger(train_sents, backoff=t1)\n",
    "\n",
    "def pos_tag_wordnet(text, pos_tag_type=\"pos_tag\"):\n",
    "  \"\"\"\n",
    "  apply pos_taging with wordnet format\n",
    "  \"\"\"\n",
    "  pos_tagged_text = t2.tag(text)\n",
    "  pos_tagged_text = [(word, wordnet_map.get(pos_tag[0])) if pos_tag[0] in wordnet_map.keys() else (word, wordnet.NOUN) for (word, pos_tag) in pos_tagged_text]\n",
    "\n",
    "  return pos_tagged_text"
   ]
  },
  {
   "cell_type": "code",
   "execution_count": 16,
   "metadata": {},
   "outputs": [],
   "source": [
    "def nltk_lemmatize(text):\n",
    "  \"\"\"\n",
    "  lemmatize the tokenized words using nltk\n",
    "  \"\"\"\n",
    "\n",
    "  lemmatizer = WordNetLemmatizer()\n",
    "  lemma = [lemmatizer.lemmatize(word, tag) for word, tag in text]\n",
    "\n",
    "  return lemma"
   ]
  },
  {
   "cell_type": "code",
   "execution_count": 17,
   "metadata": {},
   "outputs": [],
   "source": [
    "def gensim_tokenize(text):\n",
    "  '''\n",
    "  tokenize using gensim tokenizer\n",
    "  '''\n",
    "  return simple_preprocess(text)"
   ]
  },
  {
   "cell_type": "markdown",
   "metadata": {
    "id": "ASquLoeoIxay"
   },
   "source": [
    "# Part IV: Preprocessing Data"
   ]
  },
  {
   "cell_type": "code",
   "execution_count": 51,
   "metadata": {
    "colab": {
     "base_uri": "https://localhost:8080/",
     "height": 206
    },
    "id": "JjM1_dieI5lg",
    "outputId": "1fe89d24-3a70-459a-f823-ad5a13b2bfe7",
    "scrolled": true
   },
   "outputs": [
    {
     "data": {
      "text/html": [
       "<div>\n",
       "<style scoped>\n",
       "    .dataframe tbody tr th:only-of-type {\n",
       "        vertical-align: middle;\n",
       "    }\n",
       "\n",
       "    .dataframe tbody tr th {\n",
       "        vertical-align: top;\n",
       "    }\n",
       "\n",
       "    .dataframe thead th {\n",
       "        text-align: right;\n",
       "    }\n",
       "</style>\n",
       "<table border=\"1\" class=\"dataframe\">\n",
       "  <thead>\n",
       "    <tr style=\"text-align: right;\">\n",
       "      <th></th>\n",
       "      <th>text</th>\n",
       "      <th>target</th>\n",
       "    </tr>\n",
       "  </thead>\n",
       "  <tbody>\n",
       "    <tr>\n",
       "      <th>0</th>\n",
       "      <td>u are the most moron player i have ever see</td>\n",
       "      <td>0</td>\n",
       "    </tr>\n",
       "    <tr>\n",
       "      <th>1</th>\n",
       "      <td>so u go and suicide</td>\n",
       "      <td>0</td>\n",
       "    </tr>\n",
       "    <tr>\n",
       "      <th>2</th>\n",
       "      <td>graves</td>\n",
       "      <td>0</td>\n",
       "    </tr>\n",
       "    <tr>\n",
       "      <th>3</th>\n",
       "      <td>do blue</td>\n",
       "      <td>0</td>\n",
       "    </tr>\n",
       "    <tr>\n",
       "      <th>4</th>\n",
       "      <td>no life and no mana  open ur eyes</td>\n",
       "      <td>0</td>\n",
       "    </tr>\n",
       "  </tbody>\n",
       "</table>\n",
       "</div>"
      ],
      "text/plain": [
       "                                          text  target\n",
       "0  u are the most moron player i have ever see       0\n",
       "1                          so u go and suicide       0\n",
       "2                                       graves       0\n",
       "3                                      do blue       0\n",
       "4           no life and no mana  open ur eyes        0"
      ]
     },
     "execution_count": 51,
     "metadata": {},
     "output_type": "execute_result"
    }
   ],
   "source": [
    "#Open and view the file\n",
    "path = 'chat_classification.csv'\n",
    "df1 = pd.read_csv(path)\n",
    "\n",
    "df1.head()"
   ]
  },
  {
   "cell_type": "code",
   "execution_count": 52,
   "metadata": {},
   "outputs": [
    {
     "data": {
      "text/plain": [
       "False"
      ]
     },
     "execution_count": 52,
     "metadata": {},
     "output_type": "execute_result"
    }
   ],
   "source": [
    "#Since there are a few empty rows, omit them\n",
    "df1 = df1[df1['text'].notna() & (df1['text'].str.strip() != '')]\n",
    "df1['text'].isnull().any()"
   ]
  },
  {
   "cell_type": "code",
   "execution_count": 53,
   "metadata": {
    "colab": {
     "base_uri": "https://localhost:8080/",
     "height": 333
    },
    "id": "AGVDBmJdJO4e",
    "outputId": "4cc3da0f-ba37-4eaf-96ea-f82153d0553d",
    "scrolled": true
   },
   "outputs": [
    {
     "data": {
      "image/png": "[encoded data removed]",
      "text/plain": [
       "<Figure size 360x216 with 1 Axes>"
      ]
     },
     "metadata": {
      "needs_background": "light"
     },
     "output_type": "display_data"
    }
   ],
   "source": [
    "#Plot the distribution of sentiments\n",
    "\n",
    "plt.figure(figsize = (5, 3))\n",
    "plt.hist(df1['target'], bins = 2)\n",
    "\n",
    "plt.title('Chatlogs')\n",
    "plt.xlabel('Sentiment')\n",
    "plt.ylabel('Count')\n",
    "\n",
    "plt.xticks([0, 1], ['negative', 'neutral'])\n",
    "\n",
    "plt.show()"
   ]
  },
  {
   "cell_type": "markdown",
   "metadata": {},
   "source": [
    "**Tokenization**"
   ]
  },
  {
   "cell_type": "code",
   "execution_count": 58,
   "metadata": {
    "colab": {
     "base_uri": "https://localhost:8080/",
     "height": 423
    },
    "id": "lX9eH1vKOO4Z",
    "outputId": "57b6bef9-9551-44f2-9026-58c602502689",
    "scrolled": true
   },
   "outputs": [
    {
     "data": {
      "text/html": [
       "<div>\n",
       "<style scoped>\n",
       "    .dataframe tbody tr th:only-of-type {\n",
       "        vertical-align: middle;\n",
       "    }\n",
       "\n",
       "    .dataframe tbody tr th {\n",
       "        vertical-align: top;\n",
       "    }\n",
       "\n",
       "    .dataframe thead th {\n",
       "        text-align: right;\n",
       "    }\n",
       "</style>\n",
       "<table border=\"1\" class=\"dataframe\">\n",
       "  <thead>\n",
       "    <tr style=\"text-align: right;\">\n",
       "      <th></th>\n",
       "      <th>text</th>\n",
       "      <th>target</th>\n",
       "      <th>spacy_tokenized</th>\n",
       "    </tr>\n",
       "  </thead>\n",
       "  <tbody>\n",
       "    <tr>\n",
       "      <th>0</th>\n",
       "      <td>u are the most moron player i have ever see</td>\n",
       "      <td>0</td>\n",
       "      <td>[u, are, the, most, moron, player, i, have, ev...</td>\n",
       "    </tr>\n",
       "    <tr>\n",
       "      <th>1</th>\n",
       "      <td>so u go and suicide</td>\n",
       "      <td>0</td>\n",
       "      <td>[so, u, go, and, suicide]</td>\n",
       "    </tr>\n",
       "    <tr>\n",
       "      <th>2</th>\n",
       "      <td>graves</td>\n",
       "      <td>0</td>\n",
       "      <td>[graves]</td>\n",
       "    </tr>\n",
       "    <tr>\n",
       "      <th>3</th>\n",
       "      <td>do blue</td>\n",
       "      <td>0</td>\n",
       "      <td>[do, blue]</td>\n",
       "    </tr>\n",
       "    <tr>\n",
       "      <th>4</th>\n",
       "      <td>no life and no mana  open ur eyes</td>\n",
       "      <td>0</td>\n",
       "      <td>[no, life, and, no, mana,  , open, ur, eyes]</td>\n",
       "    </tr>\n",
       "  </tbody>\n",
       "</table>\n",
       "</div>"
      ],
      "text/plain": [
       "                                          text  target  \\\n",
       "0  u are the most moron player i have ever see       0   \n",
       "1                          so u go and suicide       0   \n",
       "2                                       graves       0   \n",
       "3                                      do blue       0   \n",
       "4           no life and no mana  open ur eyes        0   \n",
       "\n",
       "                                     spacy_tokenized  \n",
       "0  [u, are, the, most, moron, player, i, have, ev...  \n",
       "1                          [so, u, go, and, suicide]  \n",
       "2                                           [graves]  \n",
       "3                                         [do, blue]  \n",
       "4       [no, life, and, no, mana,  , open, ur, eyes]  "
      ]
     },
     "execution_count": 58,
     "metadata": {},
     "output_type": "execute_result"
    }
   ],
   "source": [
    "#Tokenize the text using spaCy library\n",
    "df1['spacy_tokenized'] = df1['text'].apply(spacy_tokenize)\n",
    "df1.head()"
   ]
  },
  {
   "cell_type": "markdown",
   "metadata": {},
   "source": [
    "**POS-Tagging**"
   ]
  },
  {
   "cell_type": "code",
   "execution_count": 59,
   "metadata": {
    "colab": {
     "base_uri": "https://localhost:8080/",
     "height": 423
    },
    "id": "n7eYSFw4abQd",
    "outputId": "3a866767-112c-41eb-87e1-20caebcea184"
   },
   "outputs": [
    {
     "data": {
      "text/html": [
       "<div>\n",
       "<style scoped>\n",
       "    .dataframe tbody tr th:only-of-type {\n",
       "        vertical-align: middle;\n",
       "    }\n",
       "\n",
       "    .dataframe tbody tr th {\n",
       "        vertical-align: top;\n",
       "    }\n",
       "\n",
       "    .dataframe thead th {\n",
       "        text-align: right;\n",
       "    }\n",
       "</style>\n",
       "<table border=\"1\" class=\"dataframe\">\n",
       "  <thead>\n",
       "    <tr style=\"text-align: right;\">\n",
       "      <th></th>\n",
       "      <th>text</th>\n",
       "      <th>target</th>\n",
       "      <th>spacy_tokenized</th>\n",
       "      <th>postag_wnet</th>\n",
       "    </tr>\n",
       "  </thead>\n",
       "  <tbody>\n",
       "    <tr>\n",
       "      <th>0</th>\n",
       "      <td>u are the most moron player i have ever see</td>\n",
       "      <td>0</td>\n",
       "      <td>[u, are, the, most, moron, player, i, have, ev...</td>\n",
       "      <td>[(u, n), (are, n), (the, n), (most, n), (moron...</td>\n",
       "    </tr>\n",
       "    <tr>\n",
       "      <th>1</th>\n",
       "      <td>so u go and suicide</td>\n",
       "      <td>0</td>\n",
       "      <td>[so, u, go, and, suicide]</td>\n",
       "      <td>[(so, n), (u, n), (go, v), (and, n), (suicide,...</td>\n",
       "    </tr>\n",
       "    <tr>\n",
       "      <th>2</th>\n",
       "      <td>graves</td>\n",
       "      <td>0</td>\n",
       "      <td>[graves]</td>\n",
       "      <td>[(graves, n)]</td>\n",
       "    </tr>\n",
       "    <tr>\n",
       "      <th>3</th>\n",
       "      <td>do blue</td>\n",
       "      <td>0</td>\n",
       "      <td>[do, blue]</td>\n",
       "      <td>[(do, n), (blue, a)]</td>\n",
       "    </tr>\n",
       "    <tr>\n",
       "      <th>4</th>\n",
       "      <td>no life and no mana  open ur eyes</td>\n",
       "      <td>0</td>\n",
       "      <td>[no, life, and, no, mana,  , open, ur, eyes]</td>\n",
       "      <td>[(no, n), (life, n), (and, n), (no, n), (mana,...</td>\n",
       "    </tr>\n",
       "    <tr>\n",
       "      <th>...</th>\n",
       "      <td>...</td>\n",
       "      <td>...</td>\n",
       "      <td>...</td>\n",
       "      <td>...</td>\n",
       "    </tr>\n",
       "    <tr>\n",
       "      <th>37571</th>\n",
       "      <td>wtfasfu jgofidlkyh</td>\n",
       "      <td>0</td>\n",
       "      <td>[wtfasfu, jgofidlkyh]</td>\n",
       "      <td>[(wtfasfu, n), (jgofidlkyh, n)]</td>\n",
       "    </tr>\n",
       "    <tr>\n",
       "      <th>37572</th>\n",
       "      <td>you must really suck</td>\n",
       "      <td>0</td>\n",
       "      <td>[you, must, really, suck]</td>\n",
       "      <td>[(you, n), (must, n), (really, r), (suck, n)]</td>\n",
       "    </tr>\n",
       "    <tr>\n",
       "      <th>37573</th>\n",
       "      <td>you have idiot player</td>\n",
       "      <td>0</td>\n",
       "      <td>[you, have, idiot, player]</td>\n",
       "      <td>[(you, n), (have, n), (idiot, n), (player, n)]</td>\n",
       "    </tr>\n",
       "    <tr>\n",
       "      <th>37574</th>\n",
       "      <td>super idiot</td>\n",
       "      <td>0</td>\n",
       "      <td>[super, idiot]</td>\n",
       "      <td>[(super, a), (idiot, n)]</td>\n",
       "    </tr>\n",
       "    <tr>\n",
       "      <th>37575</th>\n",
       "      <td>fuck off weab</td>\n",
       "      <td>0</td>\n",
       "      <td>[fuck, off, weab]</td>\n",
       "      <td>[(fuck, n), (off, n), (weab, n)]</td>\n",
       "    </tr>\n",
       "  </tbody>\n",
       "</table>\n",
       "<p>37201 rows × 4 columns</p>\n",
       "</div>"
      ],
      "text/plain": [
       "                                              text  target  \\\n",
       "0      u are the most moron player i have ever see       0   \n",
       "1                              so u go and suicide       0   \n",
       "2                                           graves       0   \n",
       "3                                          do blue       0   \n",
       "4               no life and no mana  open ur eyes        0   \n",
       "...                                            ...     ...   \n",
       "37571                           wtfasfu jgofidlkyh       0   \n",
       "37572                         you must really suck       0   \n",
       "37573                        you have idiot player       0   \n",
       "37574                                  super idiot       0   \n",
       "37575                                fuck off weab       0   \n",
       "\n",
       "                                         spacy_tokenized  \\\n",
       "0      [u, are, the, most, moron, player, i, have, ev...   \n",
       "1                              [so, u, go, and, suicide]   \n",
       "2                                               [graves]   \n",
       "3                                             [do, blue]   \n",
       "4           [no, life, and, no, mana,  , open, ur, eyes]   \n",
       "...                                                  ...   \n",
       "37571                              [wtfasfu, jgofidlkyh]   \n",
       "37572                          [you, must, really, suck]   \n",
       "37573                         [you, have, idiot, player]   \n",
       "37574                                     [super, idiot]   \n",
       "37575                                  [fuck, off, weab]   \n",
       "\n",
       "                                             postag_wnet  \n",
       "0      [(u, n), (are, n), (the, n), (most, n), (moron...  \n",
       "1      [(so, n), (u, n), (go, v), (and, n), (suicide,...  \n",
       "2                                          [(graves, n)]  \n",
       "3                                   [(do, n), (blue, a)]  \n",
       "4      [(no, n), (life, n), (and, n), (no, n), (mana,...  \n",
       "...                                                  ...  \n",
       "37571                    [(wtfasfu, n), (jgofidlkyh, n)]  \n",
       "37572      [(you, n), (must, n), (really, r), (suck, n)]  \n",
       "37573     [(you, n), (have, n), (idiot, n), (player, n)]  \n",
       "37574                           [(super, a), (idiot, n)]  \n",
       "37575                   [(fuck, n), (off, n), (weab, n)]  \n",
       "\n",
       "[37201 rows x 4 columns]"
      ]
     },
     "execution_count": 59,
     "metadata": {},
     "output_type": "execute_result"
    }
   ],
   "source": [
    "#POS-Tagging on tokenized text\n",
    "#It is experimented that lemmatization/stemming works slightly (if not much) better with POS-Tagging\n",
    "df1['postag_wnet'] = df1['spacy_tokenized'].apply(lambda x: pos_tag_wordnet(x))\n",
    "\n",
    "df1"
   ]
  },
  {
   "cell_type": "markdown",
   "metadata": {},
   "source": [
    "**Lemmatization**"
   ]
  },
  {
   "cell_type": "code",
   "execution_count": 60,
   "metadata": {
    "colab": {
     "base_uri": "https://localhost:8080/",
     "height": 258
    },
    "id": "IQ7b3PfqbMvu",
    "outputId": "59c23fc0-af30-4ecc-c43b-f150cbf39c6d",
    "scrolled": true
   },
   "outputs": [
    {
     "data": {
      "text/html": [
       "<div>\n",
       "<style scoped>\n",
       "    .dataframe tbody tr th:only-of-type {\n",
       "        vertical-align: middle;\n",
       "    }\n",
       "\n",
       "    .dataframe tbody tr th {\n",
       "        vertical-align: top;\n",
       "    }\n",
       "\n",
       "    .dataframe thead th {\n",
       "        text-align: right;\n",
       "    }\n",
       "</style>\n",
       "<table border=\"1\" class=\"dataframe\">\n",
       "  <thead>\n",
       "    <tr style=\"text-align: right;\">\n",
       "      <th></th>\n",
       "      <th>text</th>\n",
       "      <th>target</th>\n",
       "      <th>spacy_tokenized</th>\n",
       "      <th>postag_wnet</th>\n",
       "      <th>nltk_lemmatized_w_pos</th>\n",
       "      <th>nltk_lemmatized</th>\n",
       "    </tr>\n",
       "  </thead>\n",
       "  <tbody>\n",
       "    <tr>\n",
       "      <th>0</th>\n",
       "      <td>u are the most moron player i have ever see</td>\n",
       "      <td>0</td>\n",
       "      <td>[u, are, the, most, moron, player, i, have, ev...</td>\n",
       "      <td>[(u, n), (are, n), (the, n), (most, n), (moron...</td>\n",
       "      <td>[u, are, the, most, moron, player, i, have, ev...</td>\n",
       "      <td>u are the most moron player i have ever see</td>\n",
       "    </tr>\n",
       "    <tr>\n",
       "      <th>1</th>\n",
       "      <td>so u go and suicide</td>\n",
       "      <td>0</td>\n",
       "      <td>[so, u, go, and, suicide]</td>\n",
       "      <td>[(so, n), (u, n), (go, v), (and, n), (suicide,...</td>\n",
       "      <td>[so, u, go, and, suicide]</td>\n",
       "      <td>so u go and suicide</td>\n",
       "    </tr>\n",
       "    <tr>\n",
       "      <th>2</th>\n",
       "      <td>graves</td>\n",
       "      <td>0</td>\n",
       "      <td>[graves]</td>\n",
       "      <td>[(graves, n)]</td>\n",
       "      <td>[graf]</td>\n",
       "      <td>graf</td>\n",
       "    </tr>\n",
       "    <tr>\n",
       "      <th>3</th>\n",
       "      <td>do blue</td>\n",
       "      <td>0</td>\n",
       "      <td>[do, blue]</td>\n",
       "      <td>[(do, n), (blue, a)]</td>\n",
       "      <td>[do, blue]</td>\n",
       "      <td>do blue</td>\n",
       "    </tr>\n",
       "    <tr>\n",
       "      <th>4</th>\n",
       "      <td>no life and no mana  open ur eyes</td>\n",
       "      <td>0</td>\n",
       "      <td>[no, life, and, no, mana,  , open, ur, eyes]</td>\n",
       "      <td>[(no, n), (life, n), (and, n), (no, n), (mana,...</td>\n",
       "      <td>[no, life, and, no, mana,  , open, ur, eye]</td>\n",
       "      <td>no life and no mana   open ur eye</td>\n",
       "    </tr>\n",
       "  </tbody>\n",
       "</table>\n",
       "</div>"
      ],
      "text/plain": [
       "                                          text  target  \\\n",
       "0  u are the most moron player i have ever see       0   \n",
       "1                          so u go and suicide       0   \n",
       "2                                       graves       0   \n",
       "3                                      do blue       0   \n",
       "4           no life and no mana  open ur eyes        0   \n",
       "\n",
       "                                     spacy_tokenized  \\\n",
       "0  [u, are, the, most, moron, player, i, have, ev...   \n",
       "1                          [so, u, go, and, suicide]   \n",
       "2                                           [graves]   \n",
       "3                                         [do, blue]   \n",
       "4       [no, life, and, no, mana,  , open, ur, eyes]   \n",
       "\n",
       "                                         postag_wnet  \\\n",
       "0  [(u, n), (are, n), (the, n), (most, n), (moron...   \n",
       "1  [(so, n), (u, n), (go, v), (and, n), (suicide,...   \n",
       "2                                      [(graves, n)]   \n",
       "3                               [(do, n), (blue, a)]   \n",
       "4  [(no, n), (life, n), (and, n), (no, n), (mana,...   \n",
       "\n",
       "                               nltk_lemmatized_w_pos  \\\n",
       "0  [u, are, the, most, moron, player, i, have, ev...   \n",
       "1                          [so, u, go, and, suicide]   \n",
       "2                                             [graf]   \n",
       "3                                         [do, blue]   \n",
       "4        [no, life, and, no, mana,  , open, ur, eye]   \n",
       "\n",
       "                               nltk_lemmatized  \n",
       "0  u are the most moron player i have ever see  \n",
       "1                          so u go and suicide  \n",
       "2                                         graf  \n",
       "3                                      do blue  \n",
       "4            no life and no mana   open ur eye  "
      ]
     },
     "execution_count": 60,
     "metadata": {},
     "output_type": "execute_result"
    }
   ],
   "source": [
    "#Lemmatize text on the POS-Tagged data\n",
    "df1['nltk_lemmatized_w_pos'] = df1['postag_wnet'].apply(lambda x: nltk_lemmatize(x))\n",
    "\n",
    "#Remove tokenization, since we will re-tokenize by passing a tokenizer into the tfidf-vectorizer\n",
    "df1['nltk_lemmatized'] = [' '.join(map(str, l)) for l in df1['nltk_lemmatized_w_pos']]\n",
    "\n",
    "df1.head(5)"
   ]
  },
  {
   "cell_type": "markdown",
   "metadata": {},
   "source": [
    "# Part IV: Naive Bayes - Support Vector Machine (NB-SVM) Model"
   ]
  },
  {
   "cell_type": "markdown",
   "metadata": {},
   "source": [
    "**Vectorization**"
   ]
  },
  {
   "cell_type": "code",
   "execution_count": 61,
   "metadata": {
    "colab": {
     "base_uri": "https://localhost:8080/"
    },
    "id": "puzJIzyZcT6U",
    "outputId": "1e37a860-da35-47c6-c895-7366d6402cc5"
   },
   "outputs": [
    {
     "data": {
      "text/plain": [
       "['u are the most moron player i have ever see',\n",
       " 'so u go and suicide',\n",
       " 'graf',\n",
       " 'do blue',\n",
       " 'no life and no mana   open ur eye']"
      ]
     },
     "execution_count": 61,
     "metadata": {},
     "output_type": "execute_result"
    }
   ],
   "source": [
    "#Define variables\n",
    "corpus = df1[\"nltk_lemmatized\"].tolist()\n",
    "labels = df1['target']\n",
    "corpus[:5]"
   ]
  },
  {
   "cell_type": "code",
   "execution_count": 62,
   "metadata": {
    "id": "ElxIK8jHfmr6"
   },
   "outputs": [],
   "source": [
    "#Split data into train, test, and cross validation set\n",
    "#The ratio is 70/15/15\n",
    "X_train, X_temp, y_train, y_temp = train_test_split(corpus, labels, test_size = 0.3, random_state = 2802)\n",
    "X_val, X_test, y_val, y_test = train_test_split(X_temp, y_temp, test_size = 0.5, random_state = 2802)"
   ]
  },
  {
   "cell_type": "code",
   "execution_count": 63,
   "metadata": {
    "colab": {
     "base_uri": "https://localhost:8080/"
    },
    "id": "d--NsB9ucwgI",
    "outputId": "25f51f98-1250-4831-ec18-34136647e8b2"
   },
   "outputs": [],
   "source": [
    "#Create a vectorization object\n",
    "tfidf_vec = TfidfVectorizer(ngram_range=(1,2), tokenizer = spacy_tokenize,\n",
    "               min_df = 5, max_df = 0.85, strip_accents='unicode', use_idf = 1,\n",
    "               smooth_idf = 1, sublinear_tf = 1)\n",
    "\n",
    "#We fit the vectorizer onto the training set and vectorize it\n",
    "X_train_vec = tfidf_vec.fit_transform(X_train)\n",
    "\n",
    "#We do not want to fit the vectorizer again, so simply vectorize the remaining (lesser) sets is more ideal\n",
    "X_test_vec = tfidf_vec.transform(X_test)\n",
    "X_val_vec = tfidf_vec.transform(X_val)"
   ]
  },
  {
   "cell_type": "markdown",
   "metadata": {
    "id": "oFJO0yejR0zv"
   },
   "source": [
    "**Train the model**"
   ]
  },
  {
   "cell_type": "code",
   "execution_count": 93,
   "metadata": {},
   "outputs": [],
   "source": [
    "def nb_features(X, y):\n",
    "  '''\n",
    "  Apply a Naive-Bayes feature scaling transformation on the input data\n",
    "  '''\n",
    "  def pr(y_i, y):\n",
    "    '''\n",
    "    Calculate the ratio of each feature presenting in its respective class (0 or 1)\n",
    "    '''\n",
    "    p = X[y == y_i].sum(0)\n",
    "    return (p + 1) / ((y == y_i).sum() + 1)\n",
    "\n",
    "  y = y.values\n",
    "  r = np.log(pr(1, y) / pr(0, y))\n",
    "  x_nb = X.multiply(r)\n",
    "\n",
    "  return x_nb"
   ]
  },
  {
   "cell_type": "code",
   "execution_count": 66,
   "metadata": {
    "id": "L0IxTFA6Ogq8"
   },
   "outputs": [],
   "source": [
    "#Transform the input using NB scaling\n",
    "\n",
    "X_train_nb = nb_features(X_train_vec, y_train)\n",
    "\n",
    "X_test_nb = nb_features(X_test_vec, y_test)\n",
    "X_val_nb = nb_features(X_val_vec, y_val)"
   ]
  },
  {
   "cell_type": "code",
   "execution_count": 67,
   "metadata": {
    "colab": {
     "base_uri": "https://localhost:8080/",
     "height": 74
    },
    "id": "qaIn2W4qO17k",
    "outputId": "72d1c9fc-4a01-45d3-d69c-794660fb973c"
   },
   "outputs": [
    {
     "data": {
      "text/plain": [
       "SVC(C=1, class_weight='balanced', gamma='auto', kernel='linear',\n",
       "    probability=True)"
      ]
     },
     "execution_count": 67,
     "metadata": {},
     "output_type": "execute_result"
    }
   ],
   "source": [
    "#Define the model\n",
    "\n",
    "svm_model = SVC(C = 1, gamma = 'auto', kernel = 'linear', class_weight = 'balanced', probability = True)\n",
    "\n",
    "#Fit the model\n",
    "\n",
    "svm_model.fit(X_train_nb, y_train)"
   ]
  },
  {
   "cell_type": "markdown",
   "metadata": {},
   "source": [
    "**Model Evaluation**"
   ]
  },
  {
   "cell_type": "code",
   "execution_count": null,
   "metadata": {},
   "outputs": [],
   "source": [
    "#Randomized Search algorithm\n",
    "\n",
    "param_distributions = {\n",
    "    'C': [0.01, 0.1, 1, 10, 100],\n",
    "    'kernel': ['linear', 'rbf'],\n",
    "    'gamma': ['scale', 'auto']\n",
    "}\n",
    "\n",
    "random_search = RandomizedSearchCV(svm_model, param_distributions, n_iter = 50, scoring = 'f1', cv = 4, random_state = 2802)\n",
    "\n",
    "random_search.fit(X_train_nb, y_train)\n",
    "\n",
    "print(\"Best parameters found: \", random_search.best_params_)"
   ]
  },
  {
   "cell_type": "code",
   "execution_count": null,
   "metadata": {},
   "outputs": [],
   "source": [
    "#Grid Search Algorithm\n",
    "\n",
    "param_grid = {\n",
    "    'C': [0.001, 0.01, 0.1, 1, 10, 100],  # Adjusted C values\n",
    "    'kernel': ['linear', 'rbf', 'poly'],  # Added 'poly' for polynomial kernel\n",
    "    'degree': [2, 3, 4],  # Degrees for 'poly' kernel\n",
    "    'gamma': ['scale', 'auto']\n",
    "}\n",
    "\n",
    "grid_search = GridSearchCV(svm_model, param_grid, scoring='f1', cv=5)\n",
    "grid_search.fit(X_train_nb, y_train)\n",
    "\n",
    "print(\"Best parameters found: \", grid_search.best_params_)"
   ]
  },
  {
   "cell_type": "markdown",
   "metadata": {},
   "source": [
    "**Note:** To avoid running again these time consuming algorithm, the reslts are shown as follows: \n",
    "- C = 1, Gamma = 'auto', kernel = 'linear"
   ]
  },
  {
   "cell_type": "code",
   "execution_count": 69,
   "metadata": {
    "id": "E-p1bdsjQ3dq"
   },
   "outputs": [
    {
     "name": "stdout",
     "output_type": "stream",
     "text": [
      "Accuracy: 0.85522\n",
      "Precision: 0.87318\n",
      "F1 Score: 0.84256\n",
      "Recall: 0.81401\n"
     ]
    }
   ],
   "source": [
    "#Calculate evaluation metrics\n",
    "\n",
    "y_pred = svm_model.predict(X_test_nb)\n",
    "\n",
    "accuracy = accuracy_score(y_test, y_pred)\n",
    "precision = precision_score(y_test, y_pred, average='binary', zero_division=0)\n",
    "f_score = f1_score(y_test, y_pred, average='binary', zero_division=0)\n",
    "recall = recall_score(y_test, y_pred, average='binary', zero_division=0)\n",
    "\n",
    "print(f\"Accuracy: {accuracy:.5f}\")\n",
    "print(f\"Precision: {precision:.5f}\")\n",
    "print(f\"F1 Score: {f_score:.5f}\")\n",
    "print(f\"Recall: {recall:.5f}\")"
   ]
  },
  {
   "cell_type": "code",
   "execution_count": 70,
   "metadata": {
    "scrolled": true
   },
   "outputs": [
    {
     "name": "stdout",
     "output_type": "stream",
     "text": [
      "AUC-ROC: 0.9216752265472145\n"
     ]
    },
    {
     "data": {
      "image/png": "[encoded data removed]",
      "text/plain": [
       "<Figure size 432x288 with 1 Axes>"
      ]
     },
     "metadata": {
      "needs_background": "light"
     },
     "output_type": "display_data"
    }
   ],
   "source": [
    "# Predict probabilities for AUC-ROC\n",
    "y_pred_prob = svm_model.predict_proba(X_test_nb)[:, 1]\n",
    "\n",
    "# Compute AUC-ROC\n",
    "auc_roc = roc_auc_score(y_test, y_pred_prob)\n",
    "print(f'AUC-ROC: {auc_roc}')\n",
    "\n",
    "# Compute ROC curve\n",
    "fpr, tpr, thresholds = roc_curve(y_test, y_pred_prob)\n",
    "\n",
    "# Plot ROC curve\n",
    "plt.figure()\n",
    "plt.plot(fpr, tpr, marker='o', label='ROC curve (area = %0.2f)' % auc_roc)\n",
    "plt.xlabel('False Positive Rate')\n",
    "plt.ylabel('True Positive Rate')\n",
    "plt.title('Receiver Operating Characteristic (ROC)')\n",
    "plt.legend(loc='best')\n",
    "plt.show()"
   ]
  },
  {
   "cell_type": "code",
   "execution_count": 71,
   "metadata": {
    "scrolled": true
   },
   "outputs": [
    {
     "name": "stdout",
     "output_type": "stream",
     "text": [
      "Confusion Matrix:\n",
      "[[2611  314]\n",
      " [ 494 2162]]\n"
     ]
    },
    {
     "data": {
      "image/png": "[encoded data removed]",
      "text/plain": [
       "<Figure size 432x288 with 2 Axes>"
      ]
     },
     "metadata": {
      "needs_background": "light"
     },
     "output_type": "display_data"
    }
   ],
   "source": [
    "# Predict class labels for confusion matrix\n",
    "y_pred = svm_model.predict(X_test_nb)\n",
    "\n",
    "# Compute confusion matrix\n",
    "cm = confusion_matrix(y_test, y_pred)\n",
    "\n",
    "# Display confusion matrix\n",
    "print('Confusion Matrix:')\n",
    "print(cm)\n",
    "\n",
    "# Plot confusion matrix\n",
    "disp = ConfusionMatrixDisplay(confusion_matrix=cm)\n",
    "disp.plot(cmap=plt.cm.Blues)\n",
    "plt.title('Confusion Matrix')\n",
    "plt.show()"
   ]
  },
  {
   "cell_type": "markdown",
   "metadata": {},
   "source": [
    "**Note:** (chronologically ordered)  \n",
    "After running randomized search and further tuning, a decision had been called to:  \n",
    "- Decrease regularization parameter C from 10 to 0.1, thus creating a simpler decision boundary and reduce overfitting, making a better generalization, as shown in reducing precision.\n",
    "- Changing the kernel type to rbf slightly decrease all three metrics\n",
    "- Changing the kernel coefficient gamma from 'scale' to 'auto' does not change our metrics\n",
    "- Linear kernel is the best type of kernel so far, as changing to polynomial and sigmoid reduce significantly the results\n",
    "- Removing class_weights param slightly decrease performance\n",
    "- Increasing C from 0.1 to 1 has cause precision to increase (as expected), slightly reduce recall, while maintaing f1 score\n",
    "- Higher value of C (100 in this case) leading to longer convergence, and of course, decrease recall dramatically"
   ]
  },
  {
   "cell_type": "markdown",
   "metadata": {},
   "source": [
    "**Save the model**"
   ]
  },
  {
   "cell_type": "code",
   "execution_count": null,
   "metadata": {},
   "outputs": [],
   "source": [
    "# Save the model to a file\n",
    "\n",
    "joblib.dump(svm_model, 'tri282_nbsvm_model_sentiment_classification')"
   ]
  },
  {
   "cell_type": "markdown",
   "metadata": {},
   "source": [
    "# Part V: Bi-directional LSTM"
   ]
  },
  {
   "cell_type": "code",
   "execution_count": 72,
   "metadata": {
    "scrolled": true
   },
   "outputs": [
    {
     "data": {
      "text/plain": [
       "0    u are the most moron player i have ever see\n",
       "1                            so u go and suicide\n",
       "2                                           graf\n",
       "3                                        do blue\n",
       "4              no life and no mana   open ur eye\n",
       "Name: nltk_lemmatized, dtype: object"
      ]
     },
     "execution_count": 72,
     "metadata": {},
     "output_type": "execute_result"
    }
   ],
   "source": [
    "df1['nltk_lemmatized'].head(5)"
   ]
  },
  {
   "cell_type": "code",
   "execution_count": 73,
   "metadata": {},
   "outputs": [],
   "source": [
    "#Split data into train, test, and cross validation set\n",
    "#The ratio is 70/15/15\n",
    "\n",
    "labels = df1['target']\n",
    "\n",
    "X_train, X_temp, y_train, y_temp = train_test_split(df1['nltk_lemmatized_w_pos'].tolist(), labels, test_size = 0.3, random_state = 2802)\n",
    "X_val, X_test, y_val, y_test = train_test_split(X_temp, y_temp, test_size = 0.5, random_state = 2802)"
   ]
  },
  {
   "cell_type": "code",
   "execution_count": 74,
   "metadata": {},
   "outputs": [],
   "source": [
    "#Flatten tokenized words from a df to a list\n",
    "\n",
    "train_tokens = [token for tokens in X_train for token in tokens]"
   ]
  },
  {
   "cell_type": "code",
   "execution_count": 75,
   "metadata": {},
   "outputs": [],
   "source": [
    "# Initialize the tokenizer\n",
    "tokenizer = Tokenizer()\n",
    "tokenizer.fit_on_texts(X_train)  # Fit on training data\n",
    "\n",
    "# Convert texts to sequences\n",
    "X_train_sequences = tokenizer.texts_to_sequences(X_train)\n",
    "X_val_sequences = tokenizer.texts_to_sequences(X_val)\n",
    "X_test_sequences = tokenizer.texts_to_sequences(X_test)"
   ]
  },
  {
   "cell_type": "code",
   "execution_count": 76,
   "metadata": {
    "scrolled": true
   },
   "outputs": [],
   "source": [
    "# Calculate text lengths from the original sequences\n",
    "text_lengths = [len(seq) for seq in X_train_sequences]"
   ]
  },
  {
   "cell_type": "code",
   "execution_count": 77,
   "metadata": {},
   "outputs": [],
   "source": [
    "#Define the maximum number of words and padding length\n",
    "max_words = 32000\n",
    "max_length = 150\n",
    "\n",
    "# Pad sequences\n",
    "X_train_padded = pad_sequences(X_train_sequences, maxlen = max_length, padding='post')\n",
    "X_val_padded = pad_sequences(X_val_sequences, maxlen = max_length, padding='post')\n",
    "X_test_padded = pad_sequences(X_test_sequences, maxlen = max_length, padding='post')"
   ]
  },
  {
   "cell_type": "code",
   "execution_count": 78,
   "metadata": {},
   "outputs": [],
   "source": [
    "#Get the word index dictionary\n",
    "word_index = tokenizer.word_index\n",
    "\n",
    "#Embedding size\n",
    "emb_dim = 150\n",
    "\n",
    "#Determine the vocabulary size\n",
    "vocab_size = len(word_index) + 1  # Adding 1 for zero-padding"
   ]
  },
  {
   "cell_type": "markdown",
   "metadata": {},
   "source": [
    "**Train the model (Tensorflow)**"
   ]
  },
  {
   "cell_type": "code",
   "execution_count": 79,
   "metadata": {
    "scrolled": true
   },
   "outputs": [
    {
     "name": "stdout",
     "output_type": "stream",
     "text": [
      "Epoch 1/15\n",
      "\u001b[1m814/814\u001b[0m \u001b[32m━━━━━━━━━━━━━━━━━━━━\u001b[0m\u001b[37m\u001b[0m \u001b[1m83s\u001b[0m 96ms/step - accuracy: 0.7062 - loss: 2.1926 - val_accuracy: 0.7975 - val_loss: 0.6021\n",
      "Epoch 2/15\n",
      "\u001b[1m814/814\u001b[0m \u001b[32m━━━━━━━━━━━━━━━━━━━━\u001b[0m\u001b[37m\u001b[0m \u001b[1m72s\u001b[0m 89ms/step - accuracy: 0.8051 - loss: 0.5881 - val_accuracy: 0.8125 - val_loss: 0.5729\n",
      "Epoch 3/15\n",
      "\u001b[1m814/814\u001b[0m \u001b[32m━━━━━━━━━━━━━━━━━━━━\u001b[0m\u001b[37m\u001b[0m \u001b[1m70s\u001b[0m 87ms/step - accuracy: 0.8275 - loss: 0.5469 - val_accuracy: 0.8185 - val_loss: 0.5529\n",
      "Epoch 4/15\n",
      "\u001b[1m814/814\u001b[0m \u001b[32m━━━━━━━━━━━━━━━━━━━━\u001b[0m\u001b[37m\u001b[0m \u001b[1m70s\u001b[0m 85ms/step - accuracy: 0.8435 - loss: 0.5147 - val_accuracy: 0.8272 - val_loss: 0.5473\n",
      "Epoch 5/15\n",
      "\u001b[1m814/814\u001b[0m \u001b[32m━━━━━━━━━━━━━━━━━━━━\u001b[0m\u001b[37m\u001b[0m \u001b[1m79s\u001b[0m 97ms/step - accuracy: 0.8567 - loss: 0.4905 - val_accuracy: 0.8287 - val_loss: 0.5424\n",
      "Epoch 6/15\n",
      "\u001b[1m814/814\u001b[0m \u001b[32m━━━━━━━━━━━━━━━━━━━━\u001b[0m\u001b[37m\u001b[0m \u001b[1m76s\u001b[0m 94ms/step - accuracy: 0.8614 - loss: 0.4801 - val_accuracy: 0.8337 - val_loss: 0.5473\n",
      "Epoch 7/15\n",
      "\u001b[1m814/814\u001b[0m \u001b[32m━━━━━━━━━━━━━━━━━━━━\u001b[0m\u001b[37m\u001b[0m \u001b[1m74s\u001b[0m 91ms/step - accuracy: 0.8691 - loss: 0.4665 - val_accuracy: 0.8292 - val_loss: 0.5476\n",
      "Epoch 8/15\n",
      "\u001b[1m814/814\u001b[0m \u001b[32m━━━━━━━━━━━━━━━━━━━━\u001b[0m\u001b[37m\u001b[0m \u001b[1m71s\u001b[0m 87ms/step - accuracy: 0.8687 - loss: 0.4613 - val_accuracy: 0.8199 - val_loss: 0.5349\n",
      "Epoch 9/15\n",
      "\u001b[1m814/814\u001b[0m \u001b[32m━━━━━━━━━━━━━━━━━━━━\u001b[0m\u001b[37m\u001b[0m \u001b[1m71s\u001b[0m 87ms/step - accuracy: 0.8561 - loss: 0.4829 - val_accuracy: 0.8262 - val_loss: 0.5343\n",
      "Epoch 10/15\n",
      "\u001b[1m814/814\u001b[0m \u001b[32m━━━━━━━━━━━━━━━━━━━━\u001b[0m\u001b[37m\u001b[0m \u001b[1m71s\u001b[0m 88ms/step - accuracy: 0.8706 - loss: 0.4538 - val_accuracy: 0.8330 - val_loss: 0.5598\n",
      "Epoch 11/15\n",
      "\u001b[1m814/814\u001b[0m \u001b[32m━━━━━━━━━━━━━━━━━━━━\u001b[0m\u001b[37m\u001b[0m \u001b[1m71s\u001b[0m 87ms/step - accuracy: 0.8707 - loss: 0.4574 - val_accuracy: 0.8247 - val_loss: 0.5579\n",
      "Epoch 12/15\n",
      "\u001b[1m814/814\u001b[0m \u001b[32m━━━━━━━━━━━━━━━━━━━━\u001b[0m\u001b[37m\u001b[0m \u001b[1m72s\u001b[0m 88ms/step - accuracy: 0.8731 - loss: 0.4481 - val_accuracy: 0.8265 - val_loss: 0.5308\n",
      "Epoch 13/15\n",
      "\u001b[1m814/814\u001b[0m \u001b[32m━━━━━━━━━━━━━━━━━━━━\u001b[0m\u001b[37m\u001b[0m \u001b[1m71s\u001b[0m 87ms/step - accuracy: 0.8742 - loss: 0.4440 - val_accuracy: 0.8280 - val_loss: 0.5506\n",
      "Epoch 14/15\n",
      "\u001b[1m814/814\u001b[0m \u001b[32m━━━━━━━━━━━━━━━━━━━━\u001b[0m\u001b[37m\u001b[0m \u001b[1m70s\u001b[0m 87ms/step - accuracy: 0.8801 - loss: 0.4310 - val_accuracy: 0.8314 - val_loss: 0.5403\n",
      "Epoch 15/15\n",
      "\u001b[1m814/814\u001b[0m \u001b[32m━━━━━━━━━━━━━━━━━━━━\u001b[0m\u001b[37m\u001b[0m \u001b[1m69s\u001b[0m 85ms/step - accuracy: 0.8805 - loss: 0.4280 - val_accuracy: 0.8335 - val_loss: 0.5568\n"
     ]
    },
    {
     "data": {
      "text/plain": [
       "<keras.src.callbacks.history.History at 0x7ff1aaa08580>"
      ]
     },
     "execution_count": 79,
     "metadata": {},
     "output_type": "execute_result"
    }
   ],
   "source": [
    "bi_lstm_tf_model = Sequential([\n",
    "    #embedding layer, adding l2 regularization param to prevent overfitting\n",
    "    Embedding(input_dim = vocab_size, output_dim = emb_dim, embeddings_regularizer = l2(0.01)),\n",
    "    \n",
    "    #Two bidirectional layer, the second one does not need return_sequences\n",
    "    #Since intermediate layers need to return the full sequence to be further processed by next layer(s)\n",
    "    #Dropout params set a fraction (10% here) of neurons to 0, prevent overfitting, which is common in NN\n",
    "    Bidirectional(LSTM(64, dropout = 0.1, recurrent_dropout = 0.1, return_sequences = True)),\n",
    "    Bidirectional(LSTM(64, dropout = 0.1, recurrent_dropout = 0.1)),\n",
    "    \n",
    "    #Add a dense layer to transform inputs from LSTM \n",
    "    Dense(64, activation = 'relu', kernel_regularizer = l2(0.01)),\n",
    "    \n",
    "    #A separate dropout layer to prevent overfitting\n",
    "    Dropout(0.2),\n",
    "    \n",
    "    #Final layer for binary classification\n",
    "    Dense(1, activation = 'sigmoid')\n",
    "])\n",
    "\n",
    "bi_lstm_tf_model.compile(\n",
    "    loss = tf.keras.losses.BinaryCrossentropy(),\n",
    "    \n",
    "    #AdamW is shown to have slightly better performance than Adam\n",
    "    optimizer = tf.keras.optimizers.AdamW(learning_rate = 0.001),\n",
    "    \n",
    "    metrics = ['accuracy']\n",
    ")\n",
    "\n",
    "early_stopping = EarlyStopping(\n",
    "    monitor = 'val_loss',\n",
    "\n",
    "    #reduce patience from 15 -> 5 since model easily overfits in the first 3-5 epochs\n",
    "    patience = 5,\n",
    "\n",
    "    restore_best_weights = True\n",
    ")\n",
    "\n",
    "bi_lstm_tf_model.fit(X_train_padded, y_train.values, epochs = 15, batch_size = 32, validation_data = (X_val_padded, y_val.values), callbacks = [early_stopping])"
   ]
  },
  {
   "cell_type": "markdown",
   "metadata": {},
   "source": [
    "**Note:**\n",
    "- Changing the last layer from linear to sigmoid (removing logits) helped model less overfits and slightly increase validation accuracy\n",
    "- Adding regularization param in the embedding and the dense layer, and increasing dropout slightly decrease performance\n",
    "- Remove regularization, decrease batch size, reduce the number of neurons in the dense layer slightly improve accuracy and mitigate overfitting\n",
    "- Reduce batch size even more increase accuracy\n",
    "- Further increase number of neurons per layer does not improve performance\n",
    "- Removing one LSTM layer does not affect performance\n",
    "- Update: Adding regularizer, change optimizer, reduce epochs, reduce callbacks patience, slightly reduce dropout probability, update loss function, slightly increase learning rate yield the best result both in terms of time and performance"
   ]
  },
  {
   "cell_type": "markdown",
   "metadata": {},
   "source": [
    "**Model Evaluation**"
   ]
  },
  {
   "cell_type": "code",
   "execution_count": 80,
   "metadata": {},
   "outputs": [
    {
     "name": "stdout",
     "output_type": "stream",
     "text": [
      "\u001b[1m175/175\u001b[0m \u001b[32m━━━━━━━━━━━━━━━━━━━━\u001b[0m\u001b[37m\u001b[0m \u001b[1m5s\u001b[0m 24ms/step\n",
      "Accuracy: 0.8288837125963089\n",
      "Precision: 0.8012752391073327\n",
      "Recall: 0.8516566265060241\n",
      "F1 Score: 0.825698120094908\n"
     ]
    }
   ],
   "source": [
    "#Predict on the test set\n",
    "y_pred = bi_lstm_tf_model.predict(X_test_padded)\n",
    "\n",
    "#Convert probabilities to binary labels\n",
    "#Decrease decision boundary to 0.45 yields the best overall performance in terms of the metrics below\n",
    "y_pred_binary = (y_pred > 0.45).astype(int)\n",
    "\n",
    "#Calculate evaluation metrics\n",
    "accuracy = accuracy_score(y_test, y_pred_binary)\n",
    "recall = recall_score(y_test, y_pred_binary, average='binary', zero_division=0)\n",
    "precision = precision_score(y_test, y_pred_binary, average='binary', zero_division=0)\n",
    "f_score = f1_score(y_test, y_pred_binary, average='binary', zero_division=0)\n",
    "\n",
    "print(f'Accuracy: {accuracy}')\n",
    "print(f'Precision: {precision}')\n",
    "print(f'Recall: {recall}')\n",
    "print(f'F1 Score: {f_score}')"
   ]
  },
  {
   "cell_type": "code",
   "execution_count": 81,
   "metadata": {},
   "outputs": [
    {
     "name": "stdout",
     "output_type": "stream",
     "text": [
      "\u001b[1m175/175\u001b[0m \u001b[32m━━━━━━━━━━━━━━━━━━━━\u001b[0m\u001b[37m\u001b[0m \u001b[1m4s\u001b[0m 21ms/step\n"
     ]
    },
    {
     "data": {
      "image/png": "[encoded data removed]",
      "text/plain": [
       "<Figure size 432x288 with 1 Axes>"
      ]
     },
     "metadata": {
      "needs_background": "light"
     },
     "output_type": "display_data"
    }
   ],
   "source": [
    "#Predict probabilities\n",
    "y_pred_prob = bi_lstm_tf_model.predict(X_test_padded).flatten()\n",
    "\n",
    "#Compute AUC-ROC\n",
    "auc_roc = roc_auc_score(y_test.values, y_pred_prob)\n",
    "\n",
    "# Compute ROC curve\n",
    "fpr, tpr, thresholds = roc_curve(y_test, y_pred_prob)\n",
    "\n",
    "# Plot ROC curve\n",
    "plt.figure()\n",
    "plt.plot(fpr, tpr, marker='o', label='ROC curve (area = %0.2f)' % auc_roc)\n",
    "plt.xlabel('False Positive Rate')\n",
    "plt.ylabel('True Positive Rate')\n",
    "plt.title('Receiver Operating Characteristic (ROC)')\n",
    "plt.legend(loc='best')\n",
    "plt.show()"
   ]
  },
  {
   "cell_type": "code",
   "execution_count": 82,
   "metadata": {},
   "outputs": [
    {
     "name": "stdout",
     "output_type": "stream",
     "text": [
      "\u001b[1m175/175\u001b[0m \u001b[32m━━━━━━━━━━━━━━━━━━━━\u001b[0m\u001b[37m\u001b[0m \u001b[1m4s\u001b[0m 22ms/step\n",
      "Confusion Matrix:\n",
      "[[2364  561]\n",
      " [ 394 2262]]\n"
     ]
    },
    {
     "data": {
      "image/png": "[encoded data removed]",
      "text/plain": [
       "<Figure size 432x288 with 2 Axes>"
      ]
     },
     "metadata": {
      "needs_background": "light"
     },
     "output_type": "display_data"
    }
   ],
   "source": [
    "#Predict class labels for confusion matrix\n",
    "y_pred = bi_lstm_tf_model.predict(X_test_padded).flatten()\n",
    "y_pred_binary = (y_pred > 0.45).astype(int)\n",
    "\n",
    "#Compute confusion matrix\n",
    "cm = confusion_matrix(y_test, y_pred_binary)\n",
    "\n",
    "#Display confusion matrix\n",
    "print('Confusion Matrix:')\n",
    "print(cm)\n",
    "\n",
    "#Plot confusion matrix\n",
    "disp = ConfusionMatrixDisplay(confusion_matrix=cm)\n",
    "disp.plot(cmap=plt.cm.Blues)\n",
    "plt.title('Confusion Matrix')\n",
    "plt.show()"
   ]
  },
  {
   "cell_type": "code",
   "execution_count": 84,
   "metadata": {},
   "outputs": [],
   "source": [
    "#Save the model\n",
    "\n",
    "bi_lstm_tf_model.save('tri282_bi_lstm_tf_model_sentiment_classification.keras')"
   ]
  },
  {
   "cell_type": "markdown",
   "metadata": {},
   "source": [
    "# Part VI: Multilabel Classification with Bert"
   ]
  },
  {
   "cell_type": "code",
   "execution_count": 2,
   "metadata": {},
   "outputs": [
    {
     "data": {
      "text/plain": [
       "device(type='cpu')"
      ]
     },
     "execution_count": 2,
     "metadata": {},
     "output_type": "execute_result"
    }
   ],
   "source": [
    "device = torch.device(\"cuda\" if torch.cuda.is_available() else \"cpu\")\n",
    "device"
   ]
  },
  {
   "cell_type": "markdown",
   "metadata": {},
   "source": [
    "**Preprocessing Texts**"
   ]
  },
  {
   "cell_type": "code",
   "execution_count": 3,
   "metadata": {},
   "outputs": [
    {
     "data": {
      "text/html": [
       "<div>\n",
       "<style scoped>\n",
       "    .dataframe tbody tr th:only-of-type {\n",
       "        vertical-align: middle;\n",
       "    }\n",
       "\n",
       "    .dataframe tbody tr th {\n",
       "        vertical-align: top;\n",
       "    }\n",
       "\n",
       "    .dataframe thead th {\n",
       "        text-align: right;\n",
       "    }\n",
       "</style>\n",
       "<table border=\"1\" class=\"dataframe\">\n",
       "  <thead>\n",
       "    <tr style=\"text-align: right;\">\n",
       "      <th></th>\n",
       "      <th>Unnamed: 0</th>\n",
       "      <th>message</th>\n",
       "      <th>association_to_offender</th>\n",
       "      <th>time</th>\n",
       "      <th>case_total_reports</th>\n",
       "      <th>allied_report_count</th>\n",
       "      <th>enemy_report_count</th>\n",
       "      <th>most_common_report_reason</th>\n",
       "      <th>chatlog_id</th>\n",
       "      <th>champion_name</th>\n",
       "    </tr>\n",
       "  </thead>\n",
       "  <tbody>\n",
       "    <tr>\n",
       "      <th>0</th>\n",
       "      <td>0</td>\n",
       "      <td>gold 2 zed</td>\n",
       "      <td>enemy</td>\n",
       "      <td>00:00:21</td>\n",
       "      <td>8</td>\n",
       "      <td>0</td>\n",
       "      <td>2</td>\n",
       "      <td>Negative Attitude</td>\n",
       "      <td>1</td>\n",
       "      <td>Udyr</td>\n",
       "    </tr>\n",
       "    <tr>\n",
       "      <th>1</th>\n",
       "      <td>1</td>\n",
       "      <td>IIII</td>\n",
       "      <td>enemy</td>\n",
       "      <td>00:00:27</td>\n",
       "      <td>8</td>\n",
       "      <td>0</td>\n",
       "      <td>2</td>\n",
       "      <td>Negative Attitude</td>\n",
       "      <td>1</td>\n",
       "      <td>Riven</td>\n",
       "    </tr>\n",
       "    <tr>\n",
       "      <th>2</th>\n",
       "      <td>2</td>\n",
       "      <td>nice premade lie :o</td>\n",
       "      <td>enemy</td>\n",
       "      <td>00:00:27</td>\n",
       "      <td>8</td>\n",
       "      <td>0</td>\n",
       "      <td>2</td>\n",
       "      <td>Negative Attitude</td>\n",
       "      <td>1</td>\n",
       "      <td>Udyr</td>\n",
       "    </tr>\n",
       "  </tbody>\n",
       "</table>\n",
       "</div>"
      ],
      "text/plain": [
       "   Unnamed: 0              message association_to_offender      time  \\\n",
       "0           0           gold 2 zed                   enemy  00:00:21   \n",
       "1           1                 IIII                   enemy  00:00:27   \n",
       "2           2  nice premade lie :o                   enemy  00:00:27   \n",
       "\n",
       "   case_total_reports  allied_report_count  enemy_report_count  \\\n",
       "0                   8                    0                   2   \n",
       "1                   8                    0                   2   \n",
       "2                   8                    0                   2   \n",
       "\n",
       "  most_common_report_reason  chatlog_id champion_name  \n",
       "0         Negative Attitude           1          Udyr  \n",
       "1         Negative Attitude           1         Riven  \n",
       "2         Negative Attitude           1          Udyr  "
      ]
     },
     "execution_count": 3,
     "metadata": {},
     "output_type": "execute_result"
    }
   ],
   "source": [
    "#View the dataset separated from before\n",
    "df = pd.read_csv('lol_report_chat.csv')\n",
    "\n",
    "df.head(3)"
   ]
  },
  {
   "cell_type": "code",
   "execution_count": 4,
   "metadata": {},
   "outputs": [
    {
     "data": {
      "text/html": [
       "<div>\n",
       "<style scoped>\n",
       "    .dataframe tbody tr th:only-of-type {\n",
       "        vertical-align: middle;\n",
       "    }\n",
       "\n",
       "    .dataframe tbody tr th {\n",
       "        vertical-align: top;\n",
       "    }\n",
       "\n",
       "    .dataframe thead th {\n",
       "        text-align: right;\n",
       "    }\n",
       "</style>\n",
       "<table border=\"1\" class=\"dataframe\">\n",
       "  <thead>\n",
       "    <tr style=\"text-align: right;\">\n",
       "      <th></th>\n",
       "      <th>message</th>\n",
       "      <th>reason</th>\n",
       "      <th>total_reports</th>\n",
       "    </tr>\n",
       "  </thead>\n",
       "  <tbody>\n",
       "    <tr>\n",
       "      <th>0</th>\n",
       "      <td>gold 2 zed</td>\n",
       "      <td>Negative Attitude</td>\n",
       "      <td>2</td>\n",
       "    </tr>\n",
       "    <tr>\n",
       "      <th>1</th>\n",
       "      <td>IIII</td>\n",
       "      <td>Negative Attitude</td>\n",
       "      <td>2</td>\n",
       "    </tr>\n",
       "    <tr>\n",
       "      <th>2</th>\n",
       "      <td>nice premade lie :o</td>\n",
       "      <td>Negative Attitude</td>\n",
       "      <td>2</td>\n",
       "    </tr>\n",
       "  </tbody>\n",
       "</table>\n",
       "</div>"
      ],
      "text/plain": [
       "               message             reason  total_reports\n",
       "0           gold 2 zed  Negative Attitude              2\n",
       "1                 IIII  Negative Attitude              2\n",
       "2  nice premade lie :o  Negative Attitude              2"
      ]
     },
     "execution_count": 4,
     "metadata": {},
     "output_type": "execute_result"
    }
   ],
   "source": [
    "#Create a new column that combines the total of reports\n",
    "df['total_reports'] = df['allied_report_count'] + df['enemy_report_count']\n",
    "\n",
    "#Rename columns for comprehensiveness\n",
    "df.rename(columns = {'most_common_report_reason': 'reason'}, inplace = True)\n",
    "\n",
    "#Drop unused columns\n",
    "columns_to_drop = ['Unnamed: 0', 'time', 'champion_name', 'association_to_offender', 'case_total_reports', 'allied_report_count', 'enemy_report_count', 'chatlog_id']\n",
    "df_cleaned = df.drop(columns = columns_to_drop)\n",
    "\n",
    "df_cleaned.head(3)"
   ]
  },
  {
   "cell_type": "code",
   "execution_count": 5,
   "metadata": {},
   "outputs": [
    {
     "data": {
      "text/plain": [
       "array(['Negative Attitude', 'Offensive Language', 'Assisting Enemy Team',\n",
       "       'Verbal Abuse', 'Spamming', 'Inappropriate Name'], dtype=object)"
      ]
     },
     "execution_count": 5,
     "metadata": {},
     "output_type": "execute_result"
    }
   ],
   "source": [
    "#The number of labels to be classified\n",
    "df_cleaned['reason'].unique()"
   ]
  },
  {
   "cell_type": "code",
   "execution_count": 6,
   "metadata": {},
   "outputs": [
    {
     "data": {
      "text/plain": [
       "message          False\n",
       "reason           False\n",
       "total_reports    False\n",
       "dtype: bool"
      ]
     },
     "execution_count": 6,
     "metadata": {},
     "output_type": "execute_result"
    }
   ],
   "source": [
    "#Drop null or empty strings\n",
    "df_cleaned = df_cleaned[df_cleaned['message'].notna() & (df_cleaned['message'].str.strip() != '')]\n",
    "\n",
    "df_cleaned.isnull().any()"
   ]
  },
  {
   "cell_type": "code",
   "execution_count": 18,
   "metadata": {},
   "outputs": [],
   "source": [
    "#Clean the texts\n",
    "df_cleaned['message_cleaned'] = df_cleaned['message'].apply(clean).str.lower()"
   ]
  },
  {
   "cell_type": "code",
   "execution_count": 19,
   "metadata": {},
   "outputs": [],
   "source": [
    "df_cleaned['message_tokenized'] = df_cleaned['message_cleaned'].apply(gensim_tokenize)"
   ]
  },
  {
   "cell_type": "code",
   "execution_count": 20,
   "metadata": {},
   "outputs": [],
   "source": [
    "#Initialize the LabelEncoder\n",
    "label_encoder = LabelEncoder()\n",
    "\n",
    "#Fit and transform the column\n",
    "#Transform the 6 categorical variable to numerical values from 0-5\n",
    "df_cleaned['encoded_label'] = label_encoder.fit_transform(df_cleaned['reason'])"
   ]
  },
  {
   "cell_type": "code",
   "execution_count": 21,
   "metadata": {},
   "outputs": [],
   "source": [
    "#POS-Tagging on tokenized text\n",
    "#It is experimented that lemmatization/stemming works slightly (if not much) better with POS-Tagging\n",
    "df_cleaned['postag_wnet'] = df_cleaned['message_tokenized'].apply(lambda x: pos_tag_wordnet(x))"
   ]
  },
  {
   "cell_type": "code",
   "execution_count": 22,
   "metadata": {
    "scrolled": true
   },
   "outputs": [],
   "source": [
    "#Lemmatize text on the POS-Tagged data\n",
    "df_cleaned['message_lemmatized_w_pos'] = df_cleaned['postag_wnet'].apply(lambda x: nltk_lemmatize(x))\n",
    "\n",
    "#Remove tokenization since it is better to use ALBert tokenizer instead\n",
    "df_cleaned['message_lemmatized'] = [' '.join(map(str, l)) for l in df_cleaned['message_lemmatized_w_pos']]"
   ]
  },
  {
   "cell_type": "code",
   "execution_count": 23,
   "metadata": {
    "scrolled": true
   },
   "outputs": [
    {
     "data": {
      "text/html": [
       "<div>\n",
       "<style scoped>\n",
       "    .dataframe tbody tr th:only-of-type {\n",
       "        vertical-align: middle;\n",
       "    }\n",
       "\n",
       "    .dataframe tbody tr th {\n",
       "        vertical-align: top;\n",
       "    }\n",
       "\n",
       "    .dataframe thead th {\n",
       "        text-align: right;\n",
       "    }\n",
       "</style>\n",
       "<table border=\"1\" class=\"dataframe\">\n",
       "  <thead>\n",
       "    <tr style=\"text-align: right;\">\n",
       "      <th></th>\n",
       "      <th>message</th>\n",
       "      <th>reason</th>\n",
       "      <th>total_reports</th>\n",
       "      <th>message_cleaned</th>\n",
       "      <th>message_tokenized</th>\n",
       "      <th>encoded_label</th>\n",
       "      <th>postag_wnet</th>\n",
       "      <th>message_lemmatized_w_pos</th>\n",
       "      <th>message_lemmatized</th>\n",
       "    </tr>\n",
       "  </thead>\n",
       "  <tbody>\n",
       "    <tr>\n",
       "      <th>0</th>\n",
       "      <td>gold 2 zed</td>\n",
       "      <td>Negative Attitude</td>\n",
       "      <td>2</td>\n",
       "      <td>gold 2 zed</td>\n",
       "      <td>[gold, zed]</td>\n",
       "      <td>2</td>\n",
       "      <td>[(gold, a), (zed, n)]</td>\n",
       "      <td>[gold, zed]</td>\n",
       "      <td>gold zed</td>\n",
       "    </tr>\n",
       "    <tr>\n",
       "      <th>1</th>\n",
       "      <td>IIII</td>\n",
       "      <td>Negative Attitude</td>\n",
       "      <td>2</td>\n",
       "      <td>iiii</td>\n",
       "      <td>[iiii]</td>\n",
       "      <td>2</td>\n",
       "      <td>[(iiii, n)]</td>\n",
       "      <td>[iiii]</td>\n",
       "      <td>iiii</td>\n",
       "    </tr>\n",
       "    <tr>\n",
       "      <th>2</th>\n",
       "      <td>nice premade lie :o</td>\n",
       "      <td>Negative Attitude</td>\n",
       "      <td>2</td>\n",
       "      <td>nice premade lie o</td>\n",
       "      <td>[nice, premade, lie]</td>\n",
       "      <td>2</td>\n",
       "      <td>[(nice, a), (premade, n), (lie, n)]</td>\n",
       "      <td>[nice, premade, lie]</td>\n",
       "      <td>nice premade lie</td>\n",
       "    </tr>\n",
       "  </tbody>\n",
       "</table>\n",
       "</div>"
      ],
      "text/plain": [
       "               message             reason  total_reports     message_cleaned  \\\n",
       "0           gold 2 zed  Negative Attitude              2          gold 2 zed   \n",
       "1                 IIII  Negative Attitude              2                iiii   \n",
       "2  nice premade lie :o  Negative Attitude              2  nice premade lie o   \n",
       "\n",
       "      message_tokenized  encoded_label                          postag_wnet  \\\n",
       "0           [gold, zed]              2                [(gold, a), (zed, n)]   \n",
       "1                [iiii]              2                          [(iiii, n)]   \n",
       "2  [nice, premade, lie]              2  [(nice, a), (premade, n), (lie, n)]   \n",
       "\n",
       "  message_lemmatized_w_pos message_lemmatized  \n",
       "0              [gold, zed]           gold zed  \n",
       "1                   [iiii]               iiii  \n",
       "2     [nice, premade, lie]   nice premade lie  "
      ]
     },
     "execution_count": 23,
     "metadata": {},
     "output_type": "execute_result"
    }
   ],
   "source": [
    "df_cleaned.head(3)"
   ]
  },
  {
   "cell_type": "code",
   "execution_count": 24,
   "metadata": {},
   "outputs": [],
   "source": [
    "#Rename for clarification sake\n",
    "X = df_cleaned['message_lemmatized']\n",
    "y = df_cleaned['encoded_label']\n",
    "\n",
    "#Split the data into training and temporary sets (e.g., 70% train, 30% temp)\n",
    "X_train, X_temp, y_train, y_temp = train_test_split(X, y, test_size = 0.3, random_state = 2802)\n",
    "\n",
    "#Split the temporary set into validation and test sets (e.g., 50% validation, 50% test of the 30%)\n",
    "X_val, X_test, y_val, y_test = train_test_split(X_temp, y_temp, test_size = 0.5, random_state = 2802)"
   ]
  },
  {
   "cell_type": "code",
   "execution_count": 25,
   "metadata": {
    "scrolled": false
   },
   "outputs": [
    {
     "name": "stderr",
     "output_type": "stream",
     "text": [
      "Some weights of AlbertForSequenceClassification were not initialized from the model checkpoint at albert-base-v2 and are newly initialized: ['classifier.bias', 'classifier.weight']\n",
      "You should probably TRAIN this model on a down-stream task to be able to use it for predictions and inference.\n"
     ]
    }
   ],
   "source": [
    "#Declare the model and tokenizer\n",
    "model_name = \"albert-base-v2\"\n",
    "tokenizer = AlbertTokenizer.from_pretrained(model_name)\n",
    "model = AlbertForSequenceClassification.from_pretrained(model_name, num_labels= 6)"
   ]
  },
  {
   "cell_type": "code",
   "execution_count": 26,
   "metadata": {},
   "outputs": [],
   "source": [
    "#Tokenize, pad, and truncate texts\n",
    "encodings_train = tokenizer(X_train.tolist(), truncation = True, padding = True, return_tensors = 'pt')\n",
    "encodings_test = tokenizer(X_test.tolist(), truncation = True, padding = True, return_tensors = 'pt')\n",
    "encodings_val = tokenizer(X_val.tolist(), truncation = True, padding = True, return_tensors = 'pt')"
   ]
  },
  {
   "cell_type": "code",
   "execution_count": 27,
   "metadata": {},
   "outputs": [],
   "source": [
    "#Extract tokenized inputs\n",
    "\n",
    "input_ids_train = encodings_train['input_ids']\n",
    "input_ids_test = encodings_test['input_ids']\n",
    "input_ids_val = encodings_val['input_ids']\n",
    "\n",
    "attention_mask_train = encodings_train['attention_mask']\n",
    "attention_mask_test = encodings_test['attention_mask']\n",
    "attention_mask_val = encodings_val['attention_mask']"
   ]
  },
  {
   "cell_type": "code",
   "execution_count": 28,
   "metadata": {},
   "outputs": [],
   "source": [
    "class CustomDataset(Dataset):\n",
    "    def __init__(self, input_ids, attention_mask, labels):\n",
    "        #Use clone().detach() rather than torch.tensor to avoid copying the data\n",
    "        self.input_ids = input_ids.clone().detach()\n",
    "        self.attention_mask = attention_mask.clone().detach()\n",
    "        \n",
    "        #Use as_tensor to avoid copying data\n",
    "        self.labels = torch.as_tensor(labels.values, dtype=torch.long)\n",
    "\n",
    "    def __len__(self):\n",
    "        return len(self.labels)\n",
    "\n",
    "    def __getitem__(self, idx):\n",
    "        return {\n",
    "            'input_ids': self.input_ids[idx],\n",
    "            'attention_mask': self.attention_mask[idx],\n",
    "            'labels': self.labels[idx]\n",
    "        }"
   ]
  },
  {
   "cell_type": "code",
   "execution_count": 29,
   "metadata": {},
   "outputs": [],
   "source": [
    "#Convert data into the new dataset type\n",
    "dataset_train = CustomDataset(input_ids_train, attention_mask_train, y_train)\n",
    "dataset_test = CustomDataset(input_ids_test, attention_mask_test, y_test)\n",
    "dataset_val = CustomDataset(input_ids_val, attention_mask_val, y_val)"
   ]
  },
  {
   "cell_type": "code",
   "execution_count": 30,
   "metadata": {},
   "outputs": [],
   "source": [
    "#Load data onto the data loader\n",
    "dataloader_train = DataLoader(dataset_train, batch_size = 128)\n",
    "dataloader_test = DataLoader(dataset_test, batch_size = 128)\n",
    "dataloader_val = DataLoader(dataset_val, batch_size = 128)"
   ]
  },
  {
   "cell_type": "code",
   "execution_count": 31,
   "metadata": {},
   "outputs": [],
   "source": [
    "class albert_model(nn.Module):\n",
    "    def __init__(self, num_labels):\n",
    "        super(albert_model, self).__init__()\n",
    "        self.bert = AlbertForSequenceClassification.from_pretrained('albert-base-v2', num_labels = num_labels)\n",
    "        \n",
    "    def forward(self, input_ids, attention_mask):\n",
    "        outputs = self.bert(input_ids=input_ids, attention_mask=attention_mask)\n",
    "        \n",
    "        #The return values are already a logits of the outputs\n",
    "        logits = outputs.logits\n",
    "        \n",
    "        return logits"
   ]
  },
  {
   "cell_type": "code",
   "execution_count": 32,
   "metadata": {},
   "outputs": [],
   "source": [
    "def train_model(model, dataloader, criterion, optimizer, device, scheduler):\n",
    "    model.train()\n",
    "    total_loss = 0\n",
    "    \n",
    "    for batch in dataloader:\n",
    "        #Mount data onto device\n",
    "        input_ids = batch['input_ids'].to(device)\n",
    "        attention_mask = batch['attention_mask'].to(device)\n",
    "        labels = batch['labels'].to(device)\n",
    "        \n",
    "        #Zero the gradients for each iteration\n",
    "        optimizer.zero_grad()\n",
    "        \n",
    "        #Forward pass\n",
    "        outputs = model(input_ids, attention_mask = attention_mask)\n",
    "        \n",
    "        #The returned data is already logits, no need to set outputs.logits\n",
    "        logits = outputs\n",
    "        \n",
    "        #Apply softmax to get probabilities\n",
    "        probabilities = F.softmax(logits, dim = -1)\n",
    "        \n",
    "        #Compute loss using logits\n",
    "        loss = criterion(logits, labels)\n",
    "        \n",
    "        #Backward pass\n",
    "        loss.backward()\n",
    "        optimizer.step()\n",
    "        scheduler.step()\n",
    "\n",
    "        total_loss += loss.item()\n",
    "    \n",
    "    return total_loss / len(dataloader)\n"
   ]
  },
  {
   "cell_type": "code",
   "execution_count": null,
   "metadata": {},
   "outputs": [
    {
     "name": "stderr",
     "output_type": "stream",
     "text": [
      "Some weights of AlbertForSequenceClassification were not initialized from the model checkpoint at albert-base-v2 and are newly initialized: ['classifier.bias', 'classifier.weight']\n",
      "You should probably TRAIN this model on a down-stream task to be able to use it for predictions and inference.\n"
     ]
    }
   ],
   "source": [
    "#Declare the hyperparams\n",
    "if __name__ == \"__main__\":\n",
    "    device = torch.device('cuda' if torch.cuda.is_available() else 'cpu')\n",
    "    model = albert_model(num_labels = 6).to(device)\n",
    "    criterion = nn.CrossEntropyLoss()\n",
    "    optimizer = optim.AdamW(model.parameters(), lr=2e-4)\n",
    "    scheduler = torch.optim.lr_scheduler.CyclicLR(optimizer, base_lr = 2e-4, max_lr = 0.1, gamma = 0.9, verbose=True)\n",
    "    \n",
    "    #Main training loop\n",
    "    num_epochs = 5\n",
    "    \n",
    "    for epoch in range(num_epochs):\n",
    "        epoch_loss = train_model(model, dataloader_train, criterion, optimizer, device, scheduler)\n",
    "        print(f\"Epoch {epoch + 1}/{num_epochs}, Loss: {epoch_loss:.4f}\")"
   ]
  },
  {
   "cell_type": "code",
   "execution_count": null,
   "metadata": {},
   "outputs": [],
   "source": []
  }
 ],
 "metadata": {
  "colab": {
   "provenance": []
  },
  "kernelspec": {
   "display_name": "Python 3.9 (Default)",
   "language": "python",
   "name": "python3"
  },
  "language_info": {
   "codemirror_mode": {
    "name": "ipython",
    "version": 3
   },
   "file_extension": ".py",
   "mimetype": "text/x-python",
   "name": "python",
   "nbconvert_exporter": "python",
   "pygments_lexer": "ipython3",
   "version": "3.9.7"
  }
 },
 "nbformat": 4,
 "nbformat_minor": 1
}
